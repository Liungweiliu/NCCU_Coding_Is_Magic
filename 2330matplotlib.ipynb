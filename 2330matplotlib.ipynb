{
 "cells": [
  {
   "cell_type": "code",
   "execution_count": 18,
   "metadata": {
    "collapsed": true
   },
   "outputs": [],
   "source": [
    "import numpy as np\n",
    "import pandas as pd \n",
    "import matplotlib.pyplot as plt"
   ]
  },
  {
   "cell_type": "code",
   "execution_count": 2,
   "metadata": {
    "collapsed": true
   },
   "outputs": [],
   "source": [
    "df = pd.read_excel(\"TEJ_Excel練習_台積電.xlsx\")"
   ]
  },
  {
   "cell_type": "code",
   "execution_count": 3,
   "metadata": {
    "collapsed": false
   },
   "outputs": [
    {
     "data": {
      "text/html": [
       "<div>\n",
       "<table border=\"1\" class=\"dataframe\">\n",
       "  <thead>\n",
       "    <tr style=\"text-align: right;\">\n",
       "      <th></th>\n",
       "      <th>證券代碼</th>\n",
       "      <th>年月日</th>\n",
       "      <th>收盤價</th>\n",
       "      <th>開盤價</th>\n",
       "      <th>最高價</th>\n",
       "      <th>最低價</th>\n",
       "      <th>收盤價(元)</th>\n",
       "      <th>成交量</th>\n",
       "      <th>投信買賣超(千股)</th>\n",
       "      <th>自營買賣超(千股)</th>\n",
       "      <th>外資買賣超(千股)</th>\n",
       "    </tr>\n",
       "  </thead>\n",
       "  <tbody>\n",
       "    <tr>\n",
       "      <th>0</th>\n",
       "      <td>2330 台積電</td>\n",
       "      <td>2008/01/02</td>\n",
       "      <td>60.5</td>\n",
       "      <td>62.0</td>\n",
       "      <td>62.0</td>\n",
       "      <td>60.2</td>\n",
       "      <td>40.03</td>\n",
       "      <td>38970</td>\n",
       "      <td>-8824</td>\n",
       "      <td>-365</td>\n",
       "      <td>394</td>\n",
       "    </tr>\n",
       "    <tr>\n",
       "      <th>1</th>\n",
       "      <td>2330 台積電</td>\n",
       "      <td>2008/01/03</td>\n",
       "      <td>59.4</td>\n",
       "      <td>59.9</td>\n",
       "      <td>60.0</td>\n",
       "      <td>59.4</td>\n",
       "      <td>39.30</td>\n",
       "      <td>34838</td>\n",
       "      <td>-804</td>\n",
       "      <td>482</td>\n",
       "      <td>-9307</td>\n",
       "    </tr>\n",
       "    <tr>\n",
       "      <th>2</th>\n",
       "      <td>2330 台積電</td>\n",
       "      <td>2008/01/04</td>\n",
       "      <td>60.0</td>\n",
       "      <td>59.3</td>\n",
       "      <td>60.4</td>\n",
       "      <td>58.5</td>\n",
       "      <td>39.70</td>\n",
       "      <td>48400</td>\n",
       "      <td>-1357</td>\n",
       "      <td>711</td>\n",
       "      <td>-6802</td>\n",
       "    </tr>\n",
       "    <tr>\n",
       "      <th>3</th>\n",
       "      <td>2330 台積電</td>\n",
       "      <td>2008/01/07</td>\n",
       "      <td>55.8</td>\n",
       "      <td>57.0</td>\n",
       "      <td>58.0</td>\n",
       "      <td>55.8</td>\n",
       "      <td>36.92</td>\n",
       "      <td>103229</td>\n",
       "      <td>-5021</td>\n",
       "      <td>-1424</td>\n",
       "      <td>-65640</td>\n",
       "    </tr>\n",
       "    <tr>\n",
       "      <th>4</th>\n",
       "      <td>2330 台積電</td>\n",
       "      <td>2008/01/08</td>\n",
       "      <td>56.0</td>\n",
       "      <td>55.8</td>\n",
       "      <td>56.6</td>\n",
       "      <td>55.5</td>\n",
       "      <td>37.05</td>\n",
       "      <td>47333</td>\n",
       "      <td>77</td>\n",
       "      <td>-1248</td>\n",
       "      <td>-13831</td>\n",
       "    </tr>\n",
       "  </tbody>\n",
       "</table>\n",
       "</div>"
      ],
      "text/plain": [
       "       證券代碼         年月日   收盤價   開盤價   最高價   最低價  收盤價(元)     成交量  投信買賣超(千股)  \\\n",
       "0  2330 台積電  2008/01/02  60.5  62.0  62.0  60.2   40.03   38970      -8824   \n",
       "1  2330 台積電  2008/01/03  59.4  59.9  60.0  59.4   39.30   34838       -804   \n",
       "2  2330 台積電  2008/01/04  60.0  59.3  60.4  58.5   39.70   48400      -1357   \n",
       "3  2330 台積電  2008/01/07  55.8  57.0  58.0  55.8   36.92  103229      -5021   \n",
       "4  2330 台積電  2008/01/08  56.0  55.8  56.6  55.5   37.05   47333         77   \n",
       "\n",
       "   自營買賣超(千股)  外資買賣超(千股)  \n",
       "0       -365        394  \n",
       "1        482      -9307  \n",
       "2        711      -6802  \n",
       "3      -1424     -65640  \n",
       "4      -1248     -13831  "
      ]
     },
     "execution_count": 3,
     "metadata": {},
     "output_type": "execute_result"
    }
   ],
   "source": [
    "df.head()"
   ]
  },
  {
   "cell_type": "code",
   "execution_count": 4,
   "metadata": {
    "collapsed": false
   },
   "outputs": [
    {
     "data": {
      "text/html": [
       "<div>\n",
       "<table border=\"1\" class=\"dataframe\">\n",
       "  <thead>\n",
       "    <tr style=\"text-align: right;\">\n",
       "      <th></th>\n",
       "      <th>證券代碼</th>\n",
       "      <th>年月日</th>\n",
       "      <th>收盤價</th>\n",
       "      <th>開盤價</th>\n",
       "      <th>最高價</th>\n",
       "      <th>最低價</th>\n",
       "      <th>收盤價(元)</th>\n",
       "      <th>成交量</th>\n",
       "      <th>投信買賣超(千股)</th>\n",
       "      <th>自營買賣超(千股)</th>\n",
       "      <th>外資買賣超(千股)</th>\n",
       "    </tr>\n",
       "  </thead>\n",
       "  <tbody>\n",
       "    <tr>\n",
       "      <th>1995</th>\n",
       "      <td>2330 台積電</td>\n",
       "      <td>2016/01/15</td>\n",
       "      <td>137.0</td>\n",
       "      <td>137.5</td>\n",
       "      <td>138.0</td>\n",
       "      <td>135.5</td>\n",
       "      <td>127.58</td>\n",
       "      <td>79648</td>\n",
       "      <td>1797</td>\n",
       "      <td>-1612</td>\n",
       "      <td>24789</td>\n",
       "    </tr>\n",
       "    <tr>\n",
       "      <th>1996</th>\n",
       "      <td>2330 台積電</td>\n",
       "      <td>2016/01/18</td>\n",
       "      <td>137.0</td>\n",
       "      <td>135.0</td>\n",
       "      <td>138.0</td>\n",
       "      <td>134.5</td>\n",
       "      <td>127.58</td>\n",
       "      <td>37008</td>\n",
       "      <td>1968</td>\n",
       "      <td>930</td>\n",
       "      <td>-177</td>\n",
       "    </tr>\n",
       "    <tr>\n",
       "      <th>1997</th>\n",
       "      <td>2330 台積電</td>\n",
       "      <td>2016/01/19</td>\n",
       "      <td>138.0</td>\n",
       "      <td>137.5</td>\n",
       "      <td>138.0</td>\n",
       "      <td>136.0</td>\n",
       "      <td>128.51</td>\n",
       "      <td>24995</td>\n",
       "      <td>129</td>\n",
       "      <td>258</td>\n",
       "      <td>383</td>\n",
       "    </tr>\n",
       "    <tr>\n",
       "      <th>1998</th>\n",
       "      <td>2330 台積電</td>\n",
       "      <td>2016/01/20</td>\n",
       "      <td>134.5</td>\n",
       "      <td>137.5</td>\n",
       "      <td>137.5</td>\n",
       "      <td>133.5</td>\n",
       "      <td>125.25</td>\n",
       "      <td>44423</td>\n",
       "      <td>175</td>\n",
       "      <td>-912</td>\n",
       "      <td>-4053</td>\n",
       "    </tr>\n",
       "    <tr>\n",
       "      <th>1999</th>\n",
       "      <td>2330 台積電</td>\n",
       "      <td>2016/01/21</td>\n",
       "      <td>135.0</td>\n",
       "      <td>134.0</td>\n",
       "      <td>136.5</td>\n",
       "      <td>134.0</td>\n",
       "      <td>125.72</td>\n",
       "      <td>31957</td>\n",
       "      <td>26</td>\n",
       "      <td>-1554</td>\n",
       "      <td>481</td>\n",
       "    </tr>\n",
       "  </tbody>\n",
       "</table>\n",
       "</div>"
      ],
      "text/plain": [
       "          證券代碼         年月日    收盤價    開盤價    最高價    最低價  收盤價(元)    成交量  \\\n",
       "1995  2330 台積電  2016/01/15  137.0  137.5  138.0  135.5  127.58  79648   \n",
       "1996  2330 台積電  2016/01/18  137.0  135.0  138.0  134.5  127.58  37008   \n",
       "1997  2330 台積電  2016/01/19  138.0  137.5  138.0  136.0  128.51  24995   \n",
       "1998  2330 台積電  2016/01/20  134.5  137.5  137.5  133.5  125.25  44423   \n",
       "1999  2330 台積電  2016/01/21  135.0  134.0  136.5  134.0  125.72  31957   \n",
       "\n",
       "      投信買賣超(千股)  自營買賣超(千股)  外資買賣超(千股)  \n",
       "1995       1797      -1612      24789  \n",
       "1996       1968        930       -177  \n",
       "1997        129        258        383  \n",
       "1998        175       -912      -4053  \n",
       "1999         26      -1554        481  "
      ]
     },
     "execution_count": 4,
     "metadata": {},
     "output_type": "execute_result"
    }
   ],
   "source": [
    "df.tail()"
   ]
  },
  {
   "cell_type": "code",
   "execution_count": 5,
   "metadata": {
    "collapsed": false
   },
   "outputs": [
    {
     "data": {
      "text/html": [
       "<div>\n",
       "<table border=\"1\" class=\"dataframe\">\n",
       "  <thead>\n",
       "    <tr style=\"text-align: right;\">\n",
       "      <th></th>\n",
       "      <th>收盤價</th>\n",
       "      <th>開盤價</th>\n",
       "      <th>最高價</th>\n",
       "      <th>最低價</th>\n",
       "      <th>收盤價(元)</th>\n",
       "      <th>成交量</th>\n",
       "      <th>投信買賣超(千股)</th>\n",
       "      <th>自營買賣超(千股)</th>\n",
       "      <th>外資買賣超(千股)</th>\n",
       "    </tr>\n",
       "  </thead>\n",
       "  <tbody>\n",
       "    <tr>\n",
       "      <th>count</th>\n",
       "      <td>2000.000000</td>\n",
       "      <td>2000.000000</td>\n",
       "      <td>2000.000000</td>\n",
       "      <td>2000.000000</td>\n",
       "      <td>2000.000000</td>\n",
       "      <td>2000.000000</td>\n",
       "      <td>2000.000000</td>\n",
       "      <td>2000.000000</td>\n",
       "      <td>2000.000000</td>\n",
       "    </tr>\n",
       "    <tr>\n",
       "      <th>mean</th>\n",
       "      <td>87.188075</td>\n",
       "      <td>87.191425</td>\n",
       "      <td>87.903200</td>\n",
       "      <td>86.377125</td>\n",
       "      <td>73.281575</td>\n",
       "      <td>47830.980000</td>\n",
       "      <td>7.001500</td>\n",
       "      <td>87.248000</td>\n",
       "      <td>869.860000</td>\n",
       "    </tr>\n",
       "    <tr>\n",
       "      <th>std</th>\n",
       "      <td>30.672782</td>\n",
       "      <td>30.679021</td>\n",
       "      <td>30.881731</td>\n",
       "      <td>30.462342</td>\n",
       "      <td>31.777117</td>\n",
       "      <td>25436.501864</td>\n",
       "      <td>1606.569727</td>\n",
       "      <td>1404.926143</td>\n",
       "      <td>19076.002399</td>\n",
       "    </tr>\n",
       "    <tr>\n",
       "      <th>min</th>\n",
       "      <td>36.800000</td>\n",
       "      <td>36.400000</td>\n",
       "      <td>37.400000</td>\n",
       "      <td>36.400000</td>\n",
       "      <td>26.160000</td>\n",
       "      <td>4823.000000</td>\n",
       "      <td>-9685.000000</td>\n",
       "      <td>-8253.000000</td>\n",
       "      <td>-129233.000000</td>\n",
       "    </tr>\n",
       "    <tr>\n",
       "      <th>25%</th>\n",
       "      <td>61.800000</td>\n",
       "      <td>61.775000</td>\n",
       "      <td>62.100000</td>\n",
       "      <td>61.100000</td>\n",
       "      <td>46.190000</td>\n",
       "      <td>31188.000000</td>\n",
       "      <td>-488.250000</td>\n",
       "      <td>-551.250000</td>\n",
       "      <td>-8336.750000</td>\n",
       "    </tr>\n",
       "    <tr>\n",
       "      <th>50%</th>\n",
       "      <td>76.300000</td>\n",
       "      <td>76.300000</td>\n",
       "      <td>76.700000</td>\n",
       "      <td>75.400000</td>\n",
       "      <td>62.930000</td>\n",
       "      <td>42530.000000</td>\n",
       "      <td>0.000000</td>\n",
       "      <td>30.500000</td>\n",
       "      <td>842.000000</td>\n",
       "    </tr>\n",
       "    <tr>\n",
       "      <th>75%</th>\n",
       "      <td>109.500000</td>\n",
       "      <td>109.000000</td>\n",
       "      <td>110.000000</td>\n",
       "      <td>108.500000</td>\n",
       "      <td>95.432500</td>\n",
       "      <td>58470.750000</td>\n",
       "      <td>497.000000</td>\n",
       "      <td>699.000000</td>\n",
       "      <td>9735.250000</td>\n",
       "    </tr>\n",
       "    <tr>\n",
       "      <th>max</th>\n",
       "      <td>154.500000</td>\n",
       "      <td>154.000000</td>\n",
       "      <td>155.000000</td>\n",
       "      <td>152.500000</td>\n",
       "      <td>139.440000</td>\n",
       "      <td>423945.000000</td>\n",
       "      <td>13520.000000</td>\n",
       "      <td>9426.000000</td>\n",
       "      <td>103404.000000</td>\n",
       "    </tr>\n",
       "  </tbody>\n",
       "</table>\n",
       "</div>"
      ],
      "text/plain": [
       "               收盤價          開盤價          最高價          最低價       收盤價(元)  \\\n",
       "count  2000.000000  2000.000000  2000.000000  2000.000000  2000.000000   \n",
       "mean     87.188075    87.191425    87.903200    86.377125    73.281575   \n",
       "std      30.672782    30.679021    30.881731    30.462342    31.777117   \n",
       "min      36.800000    36.400000    37.400000    36.400000    26.160000   \n",
       "25%      61.800000    61.775000    62.100000    61.100000    46.190000   \n",
       "50%      76.300000    76.300000    76.700000    75.400000    62.930000   \n",
       "75%     109.500000   109.000000   110.000000   108.500000    95.432500   \n",
       "max     154.500000   154.000000   155.000000   152.500000   139.440000   \n",
       "\n",
       "                 成交量     投信買賣超(千股)    自營買賣超(千股)      外資買賣超(千股)  \n",
       "count    2000.000000   2000.000000  2000.000000    2000.000000  \n",
       "mean    47830.980000      7.001500    87.248000     869.860000  \n",
       "std     25436.501864   1606.569727  1404.926143   19076.002399  \n",
       "min      4823.000000  -9685.000000 -8253.000000 -129233.000000  \n",
       "25%     31188.000000   -488.250000  -551.250000   -8336.750000  \n",
       "50%     42530.000000      0.000000    30.500000     842.000000  \n",
       "75%     58470.750000    497.000000   699.000000    9735.250000  \n",
       "max    423945.000000  13520.000000  9426.000000  103404.000000  "
      ]
     },
     "execution_count": 5,
     "metadata": {},
     "output_type": "execute_result"
    }
   ],
   "source": [
    "df.describe()"
   ]
  },
  {
   "cell_type": "code",
   "execution_count": 6,
   "metadata": {
    "collapsed": false,
    "scrolled": true
   },
   "outputs": [
    {
     "data": {
      "text/plain": [
       "Index(['證券代碼', '年月日', '收盤價', '開盤價', '最高價', '最低價', '收盤價(元)', '成交量', '投信買賣超(千股)',\n",
       "       '自營買賣超(千股)', '外資買賣超(千股)'],\n",
       "      dtype='object')"
      ]
     },
     "execution_count": 6,
     "metadata": {},
     "output_type": "execute_result"
    }
   ],
   "source": [
    "df.columns[:]"
   ]
  },
  {
   "cell_type": "code",
   "execution_count": 7,
   "metadata": {
    "collapsed": true
   },
   "outputs": [],
   "source": [
    "x = df.iloc[:,1]"
   ]
  },
  {
   "cell_type": "code",
   "execution_count": 8,
   "metadata": {
    "collapsed": true
   },
   "outputs": [],
   "source": [
    "y = df.iloc[:,2]"
   ]
  },
  {
   "cell_type": "code",
   "execution_count": 9,
   "metadata": {
    "collapsed": true
   },
   "outputs": [],
   "source": [
    "Time = pd.to_datetime(x)"
   ]
  },
  {
   "cell_type": "code",
   "execution_count": 10,
   "metadata": {
    "collapsed": false
   },
   "outputs": [],
   "source": [
    "closing_price = df.iloc[:,2]"
   ]
  },
  {
   "cell_type": "code",
   "execution_count": 11,
   "metadata": {
    "collapsed": true
   },
   "outputs": [],
   "source": [
    "opening_price = df.iloc[:,3]"
   ]
  },
  {
   "cell_type": "code",
   "execution_count": 12,
   "metadata": {
    "collapsed": false
   },
   "outputs": [],
   "source": [
    "closing_price_20 = df.iloc[:20,2]\n",
    "opening_price_20 = df.iloc[:20,3]"
   ]
  },
  {
   "cell_type": "code",
   "execution_count": 13,
   "metadata": {
    "collapsed": false,
    "scrolled": true
   },
   "outputs": [
    {
     "data": {
      "text/plain": [
       "Index(['證券代碼', '年月日', '收盤價', '開盤價', '最高價', '最低價', '收盤價(元)', '成交量', '投信買賣超(千股)',\n",
       "       '自營買賣超(千股)', '外資買賣超(千股)'],\n",
       "      dtype='object')"
      ]
     },
     "execution_count": 13,
     "metadata": {},
     "output_type": "execute_result"
    }
   ],
   "source": [
    "df.columns"
   ]
  },
  {
   "cell_type": "code",
   "execution_count": 19,
   "metadata": {
    "collapsed": false,
    "scrolled": true
   },
   "outputs": [
    {
     "data": {
      "text/plain": [
       "0    60.5\n",
       "1    59.4\n",
       "2    60.0\n",
       "3    55.8\n",
       "4    56.0\n",
       "Name: 收盤價, dtype: float64"
      ]
     },
     "execution_count": 19,
     "metadata": {},
     "output_type": "execute_result"
    }
   ],
   "source": [
    "closing_price.head()"
   ]
  },
  {
   "cell_type": "code",
   "execution_count": 44,
   "metadata": {
    "collapsed": false,
    "scrolled": true
   },
   "outputs": [],
   "source": [
    "decrease = np.append(decrease,[df.iloc[6,7]])"
   ]
  },
  {
   "cell_type": "code",
   "execution_count": 48,
   "metadata": {
    "collapsed": false
   },
   "outputs": [
    {
     "data": {
      "text/plain": [
       "1099"
      ]
     },
     "execution_count": 48,
     "metadata": {},
     "output_type": "execute_result"
    }
   ],
   "source": [
    "len(decrease)"
   ]
  },
  {
   "cell_type": "code",
   "execution_count": 49,
   "metadata": {
    "collapsed": false
   },
   "outputs": [
    {
     "data": {
      "text/plain": [
       "901"
      ]
     },
     "execution_count": 49,
     "metadata": {},
     "output_type": "execute_result"
    }
   ],
   "source": [
    "len(rise)"
   ]
  },
  {
   "cell_type": "code",
   "execution_count": 46,
   "metadata": {
    "collapsed": false
   },
   "outputs": [],
   "source": [
    "rise = np.array([])\n",
    "decrease = np.array([])\n",
    "for i in range(len(closing_price)):\n",
    "    if df.iloc[i,2]>df.iloc[i,3]:\n",
    "        rise = np.append(rise,[df.iloc[i,7]])\n",
    "    else:\n",
    "        decrease = np.append(decrease,[df.iloc[i,7]])"
   ]
  },
  {
   "cell_type": "code",
   "execution_count": 15,
   "metadata": {
    "collapsed": true
   },
   "outputs": [],
   "source": [
    "Time = x[:20]"
   ]
  },
  {
   "cell_type": "code",
   "execution_count": 16,
   "metadata": {
    "collapsed": false
   },
   "outputs": [],
   "source": [
    "##single closing price line chart\n",
    "\n",
    "#set the size of the graph\n",
    "plt.figure(figsize=(18,8),dpi=80)\n",
    "#main line chart, linewidth  \n",
    "plt.plot(closing_price_20, color= 'r', alpha= 0.6, lw= 5, marker='o')\n",
    "plt.plot(opening_price_20, color= 'r', ls='-.',alpha= 0.8, lw= 5, marker='o')\n",
    "\n",
    "#set location:floot or int, label:str, ratation 45 degrees\n",
    "plt.xticks(range(20), Time, color= \"#DD0030\", alpha=0.8, rotation= 45)\n",
    "#set title of the graph\n",
    "plt.title(\"$2330$ 台積電\", color= \"#DD2198\", fontsize= 25, loc= 'center')\n",
    "#set y asix label\n",
    "plt.ylabel('$Stock$ $Price$', color = \"#DD2198\",fontsize=20)\n",
    "#set the legend, location, shadow:box shadow, fancybox: round angle\n",
    "plt.legend(loc='lower right', ncol=1, fontsize= 'xx-large', shadow=True, fancybox=True)\n",
    "#the grid, set x-large\n",
    "plt.grid(True, color= \"#DD9DC6\")\n",
    "plt.show()"
   ]
  },
  {
   "cell_type": "code",
   "execution_count": 17,
   "metadata": {
    "collapsed": false
   },
   "outputs": [],
   "source": [
    "plt.figure(figsize=(10,7),dpi=100)\n",
    "#分配上下兩圖 subplot(column row index)\n",
    "p1 = plt.subplot(211)#(2columnwidth 1rowlength index1)\n",
    "p2 = plt.subplot(212)#(2columnwidth 1rowlength index2)\n",
    "\n",
    "#圖案主體\n",
    "p1.plot(closing_price,\"g-\", lw=5)\n",
    "p2.plot(opening_price, color = \"#F98BB0\", lw=5)\n",
    "\n",
    "p1.grid(True, axis='y', ls='--', color='g', alpha=0.8)\n",
    "p2.grid(True, axis='y', ls='--', color='r', alpha=0.8)\n",
    "\n",
    "p1.set_title('$Closing$ $price$', color='g', fontsize = 20)\n",
    "p2.set_title('$Opening$ $price$', color='r', fontsize = 20)\n",
    "plt.show()"
   ]
  },
  {
   "cell_type": "code",
   "execution_count": null,
   "metadata": {
    "collapsed": true
   },
   "outputs": [],
   "source": []
  }
 ],
 "metadata": {
  "anaconda-cloud": {},
  "kernelspec": {
   "display_name": "Python [Root]",
   "language": "python",
   "name": "Python [Root]"
  },
  "language_info": {
   "codemirror_mode": {
    "name": "ipython",
    "version": 3
   },
   "file_extension": ".py",
   "mimetype": "text/x-python",
   "name": "python",
   "nbconvert_exporter": "python",
   "pygments_lexer": "ipython3",
   "version": "3.5.2"
  }
 },
 "nbformat": 4,
 "nbformat_minor": 0
}
