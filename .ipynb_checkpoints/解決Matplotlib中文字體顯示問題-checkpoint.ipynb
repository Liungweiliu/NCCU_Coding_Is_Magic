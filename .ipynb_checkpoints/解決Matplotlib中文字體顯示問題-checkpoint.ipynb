{
 "cells": [
  {
   "cell_type": "markdown",
   "metadata": {},
   "source": [
    "## 方法一\n",
    "\n",
    "1.執行plt.rcParams['font.sans-serif'] = ['SimHei']<br>\n",
    "2.將$C:\\Windows\\Fonts$ 內部的simhei.ttf複製到Anaconda3中安裝matplotlib下mpl-data中的fonts<br>\n",
    "$E.g. C:\\Users\\名\\Anaconda3\\Lib\\site-packages\\matplotlib\\mpl-data\\fonts\\ttf$"
   ]
  },
  {
   "cell_type": "markdown",
   "metadata": {},
   "source": [
    "## 方法二\n",
    "\n",
    "A.<br>\n",
    "1.到Windows系統字體資料夾中，找一個喜歡的中文字體檔案，e.g.simhei.ttf<br>\n",
    "2.將Matplotlib中default的字體檔案Vera.ttf，所選的中文字體重新命名為Vera.ttf<br>\n",
    "B.<br>\n",
    "打開mpl-data資料夾中的matplotlibrc檔案，可以用vim或記事本打開<br>\n",
    "1.修改中文字體顯示設定:將font.family的值改為SimHei，並將前面的#去除；將font.serif中的取值新增SimHei\n",
    "    >font.family:SimHei\n",
    "    >中間程式碼省略\n",
    "    >font.sans-serif:SimHei, Bitstream Vera Sans, Lucida Grande, Verdana...<br>\n",
    "2.將axes.unicode_minus True改為False\n",
    "    >axes.unicode_minus:False<br>\n",
    "C.修改rcsetup.py<br>\n",
    "1.打開rcsetup.py\n",
    "    ># a map from key -> value, converter\n",
    "    >defaultParams = {\n",
    "    >省略\n",
    "    >'font.family':[[sans-serif], validate_stringlist]\n",
    "    >省略\n",
    "    >'font.sans-serif':[['SimHei','Bitstream Vera Sans', 'DejaVu Sans', 'Lucida Granda, 'Verdana'...]]\n",
    "    >}\n",
    "2.一樣將axes.unicode_minus True改為False<br>\n",
    "    ># a map from key -> value, converter\n",
    "    >defaultParams = {\n",
    "    >省略\n",
    "    >'axes.unicode_minus':[False, validate_bool],\n",
    "    >省略\n",
    "    >}\n",
    "\n",
    "儲存修改後就可以正常顯示中文了"
   ]
  },
  {
   "cell_type": "code",
   "execution_count": 8,
   "metadata": {
    "collapsed": true
   },
   "outputs": [],
   "source": [
    "#import 套件\n",
    "import numpy as np\n",
    "import pandas as pd \n",
    "import matplotlib.pyplot as plt"
   ]
  },
  {
   "cell_type": "code",
   "execution_count": 9,
   "metadata": {
    "collapsed": true
   },
   "outputs": [],
   "source": [
    "#讀檔\n",
    "df = pd.read_excel(\"TEJ_Excel練習_台積電.xlsx\")"
   ]
  },
  {
   "cell_type": "code",
   "execution_count": 11,
   "metadata": {
    "collapsed": false
   },
   "outputs": [
    {
     "data": {
      "text/plain": [
       "Index(['證券代碼', '年月日', '收盤價', '開盤價', '最高價', '最低價', '收盤價(元)', '成交量', '投信買賣超(千股)',\n",
       "       '自營買賣超(千股)', '外資買賣超(千股)'],\n",
       "      dtype='object')"
      ]
     },
     "execution_count": 11,
     "metadata": {},
     "output_type": "execute_result"
    }
   ],
   "source": [
    "#看columns\n",
    "df.columns"
   ]
  },
  {
   "cell_type": "code",
   "execution_count": 10,
   "metadata": {
    "collapsed": true
   },
   "outputs": [],
   "source": [
    "#切資料\n",
    "closing_price = df.iloc[:,2]\n",
    "opening_price = df.iloc[:,3]"
   ]
  },
  {
   "cell_type": "code",
   "execution_count": 25,
   "metadata": {
    "collapsed": false
   },
   "outputs": [],
   "source": [
    "plt.figure(figsize=(10,7),dpi=100)\n",
    "#分配上下兩圖 subplot(column row index)\n",
    "p1 = plt.subplot(211)#(2columnwidth 1rowlength index1)\n",
    "p2 = plt.subplot(212)#(2columnwidth 1rowlength index2)\n",
    "\n",
    "#圖案主體\n",
    "p1.plot(closing_price,\"g-\", alpha = 0.6, lw=5)\n",
    "p2.plot(opening_price, color = \"#F98BB0\", lw=5)\n",
    "\n",
    "#背景格線\n",
    "p1.grid(True, axis='y', ls='--', color='g', alpha=0.8)\n",
    "p2.grid(True, axis='y', ls='--', color='r', alpha=0.8)\n",
    "\n",
    "#正常顯示中、英文\n",
    "p1.set_title('收盤價', color='g', fontsize = 20)\n",
    "p2.set_title('$Opening$ $price$', color='r', fontsize = 20)\n",
    "\n",
    "#\n",
    "p1.set_ylabel('股價', color='g', fontsize = 20)\n",
    "p2.set_ylabel('$Stock$ $Price$', color='r', fontsize = 20)\n",
    "plt.show()"
   ]
  }
 ],
 "metadata": {
  "kernelspec": {
   "display_name": "Python [Root]",
   "language": "python",
   "name": "Python [Root]"
  },
  "language_info": {
   "codemirror_mode": {
    "name": "ipython",
    "version": 3
   },
   "file_extension": ".py",
   "mimetype": "text/x-python",
   "name": "python",
   "nbconvert_exporter": "python",
   "pygments_lexer": "ipython3",
   "version": "3.5.2"
  }
 },
 "nbformat": 4,
 "nbformat_minor": 0
}
