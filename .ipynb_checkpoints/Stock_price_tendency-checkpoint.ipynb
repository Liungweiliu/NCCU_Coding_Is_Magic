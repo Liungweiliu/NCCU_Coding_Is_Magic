{
 "cells": [
  {
   "cell_type": "markdown",
   "metadata": {},
   "source": [
    "<h3>**股價走勢圖畫起來**</h3>"
   ]
  },
  {
   "cell_type": "markdown",
   "metadata": {},
   "source": [
    "<p>**資料取自台灣經濟新報**</p>"
   ]
  },
  {
   "cell_type": "code",
   "execution_count": 28,
   "metadata": {
    "collapsed": true
   },
   "outputs": [],
   "source": [
    "#import packages\n",
    "import numpy as np\n",
    "import matplotlib.pyplot as plt\n",
    "import pandas as pd\n",
    "%matplotlib inline\n",
    "from matplotlib.dates import DateFormatter, WeekdayLocator,\\\n",
    "    DayLocator, MONDAY,date2num\n",
    "from matplotlib.finance import candlestick_ohlc"
   ]
  },
  {
   "cell_type": "code",
   "execution_count": 29,
   "metadata": {
    "collapsed": true
   },
   "outputs": [],
   "source": [
    "TSMC = pd.read_excel('TEJ_Excel練習_台積電.xlsx')"
   ]
  },
  {
   "cell_type": "code",
   "execution_count": 30,
   "metadata": {
    "collapsed": false
   },
   "outputs": [
    {
     "data": {
      "text/html": [
       "<div>\n",
       "<table border=\"1\" class=\"dataframe\">\n",
       "  <thead>\n",
       "    <tr style=\"text-align: right;\">\n",
       "      <th></th>\n",
       "      <th>收盤價</th>\n",
       "      <th>開盤價</th>\n",
       "      <th>最高價</th>\n",
       "      <th>最低價</th>\n",
       "      <th>收盤價(元)</th>\n",
       "      <th>成交量</th>\n",
       "      <th>投信買賣超(千股)</th>\n",
       "      <th>自營買賣超(千股)</th>\n",
       "      <th>外資買賣超(千股)</th>\n",
       "    </tr>\n",
       "  </thead>\n",
       "  <tbody>\n",
       "    <tr>\n",
       "      <th>count</th>\n",
       "      <td>2000.000000</td>\n",
       "      <td>2000.000000</td>\n",
       "      <td>2000.000000</td>\n",
       "      <td>2000.000000</td>\n",
       "      <td>2000.000000</td>\n",
       "      <td>2000.000000</td>\n",
       "      <td>2000.000000</td>\n",
       "      <td>2000.000000</td>\n",
       "      <td>2000.000000</td>\n",
       "    </tr>\n",
       "    <tr>\n",
       "      <th>mean</th>\n",
       "      <td>87.188075</td>\n",
       "      <td>87.191425</td>\n",
       "      <td>87.903200</td>\n",
       "      <td>86.377125</td>\n",
       "      <td>73.281575</td>\n",
       "      <td>47830.980000</td>\n",
       "      <td>7.001500</td>\n",
       "      <td>87.248000</td>\n",
       "      <td>869.860000</td>\n",
       "    </tr>\n",
       "    <tr>\n",
       "      <th>std</th>\n",
       "      <td>30.672782</td>\n",
       "      <td>30.679021</td>\n",
       "      <td>30.881731</td>\n",
       "      <td>30.462342</td>\n",
       "      <td>31.777117</td>\n",
       "      <td>25436.501864</td>\n",
       "      <td>1606.569727</td>\n",
       "      <td>1404.926143</td>\n",
       "      <td>19076.002399</td>\n",
       "    </tr>\n",
       "    <tr>\n",
       "      <th>min</th>\n",
       "      <td>36.800000</td>\n",
       "      <td>36.400000</td>\n",
       "      <td>37.400000</td>\n",
       "      <td>36.400000</td>\n",
       "      <td>26.160000</td>\n",
       "      <td>4823.000000</td>\n",
       "      <td>-9685.000000</td>\n",
       "      <td>-8253.000000</td>\n",
       "      <td>-129233.000000</td>\n",
       "    </tr>\n",
       "    <tr>\n",
       "      <th>25%</th>\n",
       "      <td>61.800000</td>\n",
       "      <td>61.775000</td>\n",
       "      <td>62.100000</td>\n",
       "      <td>61.100000</td>\n",
       "      <td>46.190000</td>\n",
       "      <td>31188.000000</td>\n",
       "      <td>-488.250000</td>\n",
       "      <td>-551.250000</td>\n",
       "      <td>-8336.750000</td>\n",
       "    </tr>\n",
       "    <tr>\n",
       "      <th>50%</th>\n",
       "      <td>76.300000</td>\n",
       "      <td>76.300000</td>\n",
       "      <td>76.700000</td>\n",
       "      <td>75.400000</td>\n",
       "      <td>62.930000</td>\n",
       "      <td>42530.000000</td>\n",
       "      <td>0.000000</td>\n",
       "      <td>30.500000</td>\n",
       "      <td>842.000000</td>\n",
       "    </tr>\n",
       "    <tr>\n",
       "      <th>75%</th>\n",
       "      <td>109.500000</td>\n",
       "      <td>109.000000</td>\n",
       "      <td>110.000000</td>\n",
       "      <td>108.500000</td>\n",
       "      <td>95.432500</td>\n",
       "      <td>58470.750000</td>\n",
       "      <td>497.000000</td>\n",
       "      <td>699.000000</td>\n",
       "      <td>9735.250000</td>\n",
       "    </tr>\n",
       "    <tr>\n",
       "      <th>max</th>\n",
       "      <td>154.500000</td>\n",
       "      <td>154.000000</td>\n",
       "      <td>155.000000</td>\n",
       "      <td>152.500000</td>\n",
       "      <td>139.440000</td>\n",
       "      <td>423945.000000</td>\n",
       "      <td>13520.000000</td>\n",
       "      <td>9426.000000</td>\n",
       "      <td>103404.000000</td>\n",
       "    </tr>\n",
       "  </tbody>\n",
       "</table>\n",
       "</div>"
      ],
      "text/plain": [
       "               收盤價          開盤價          最高價          最低價       收盤價(元)  \\\n",
       "count  2000.000000  2000.000000  2000.000000  2000.000000  2000.000000   \n",
       "mean     87.188075    87.191425    87.903200    86.377125    73.281575   \n",
       "std      30.672782    30.679021    30.881731    30.462342    31.777117   \n",
       "min      36.800000    36.400000    37.400000    36.400000    26.160000   \n",
       "25%      61.800000    61.775000    62.100000    61.100000    46.190000   \n",
       "50%      76.300000    76.300000    76.700000    75.400000    62.930000   \n",
       "75%     109.500000   109.000000   110.000000   108.500000    95.432500   \n",
       "max     154.500000   154.000000   155.000000   152.500000   139.440000   \n",
       "\n",
       "                 成交量     投信買賣超(千股)    自營買賣超(千股)      外資買賣超(千股)  \n",
       "count    2000.000000   2000.000000  2000.000000    2000.000000  \n",
       "mean    47830.980000      7.001500    87.248000     869.860000  \n",
       "std     25436.501864   1606.569727  1404.926143   19076.002399  \n",
       "min      4823.000000  -9685.000000 -8253.000000 -129233.000000  \n",
       "25%     31188.000000   -488.250000  -551.250000   -8336.750000  \n",
       "50%     42530.000000      0.000000    30.500000     842.000000  \n",
       "75%     58470.750000    497.000000   699.000000    9735.250000  \n",
       "max    423945.000000  13520.000000  9426.000000  103404.000000  "
      ]
     },
     "execution_count": 30,
     "metadata": {},
     "output_type": "execute_result"
    }
   ],
   "source": [
    "TSMC.describe()"
   ]
  },
  {
   "cell_type": "code",
   "execution_count": 31,
   "metadata": {
    "collapsed": false
   },
   "outputs": [
    {
     "data": {
      "text/plain": [
       "Index(['證券代碼', '年月日', '收盤價', '開盤價', '最高價', '最低價', '收盤價(元)', '成交量', '投信買賣超(千股)',\n",
       "       '自營買賣超(千股)', '外資買賣超(千股)'],\n",
       "      dtype='object')"
      ]
     },
     "execution_count": 31,
     "metadata": {},
     "output_type": "execute_result"
    }
   ],
   "source": [
    "TSMC.columns"
   ]
  },
  {
   "cell_type": "code",
   "execution_count": 32,
   "metadata": {
    "collapsed": true
   },
   "outputs": [],
   "source": [
    "from matplotlib.dates import DateFormatter, WeekdayLocator,\\\n",
    "    DayLocator, MONDAY,date2num\n",
    "from datetime import date"
   ]
  },
  {
   "cell_type": "code",
   "execution_count": 33,
   "metadata": {
    "collapsed": false
   },
   "outputs": [],
   "source": [
    "#蠟燭圖用時間\n",
    "Timeline = pd.to_datetime(TSMC['年月日'], format='%Y/%m/%d', dayfirst= True, box= False)\n",
    "Timeline1 = Timeline.dt.date\n",
    "Date=date2num(Timeline1)"
   ]
  },
  {
   "cell_type": "code",
   "execution_count": 34,
   "metadata": {
    "collapsed": true
   },
   "outputs": [],
   "source": [
    "openingPrice, closingPrice, highestPrice, lowestPrice = TSMC['開盤價'], TSMC['收盤價'], TSMC['最高價'], TSMC['最低價']\n",
    "Volume, IT, SO, FI = TSMC['成交量'], TSMC['投信買賣超(千股)'], TSMC['自營買賣超(千股)'], TSMC['外資買賣超(千股)']"
   ]
  },
  {
   "cell_type": "code",
   "execution_count": 35,
   "metadata": {
    "collapsed": false
   },
   "outputs": [],
   "source": [
    "T1 = TSMC['年月日']"
   ]
  },
  {
   "cell_type": "code",
   "execution_count": 36,
   "metadata": {
    "collapsed": true
   },
   "outputs": [],
   "source": [
    "#轉list\n",
    "T2 = T1.tolist()"
   ]
  },
  {
   "cell_type": "code",
   "execution_count": 68,
   "metadata": {
    "collapsed": true
   },
   "outputs": [],
   "source": [
    "#一次看幾天\n",
    "days = 100"
   ]
  },
  {
   "cell_type": "code",
   "execution_count": 69,
   "metadata": {
    "collapsed": false
   },
   "outputs": [],
   "source": [
    "stock= []\n",
    "bar_Time ,bar_Volume, bar_IT, bar_SO, bar_FI = [], [], [], [], []\n",
    "for i in range(days):\n",
    "    a= [Date[i], openingPrice[i], highestPrice[i], lowestPrice[i], closingPrice[i]]\n",
    "    b1, b2, b3, b4, b5= Timeline1[i], Volume[i], IT[i], SO[i], FI[i]\n",
    "    stock.append(a)\n",
    "    \n",
    "    bar_Time.append(b1)\n",
    "    bar_Volume.append(b2)\n",
    "    bar_IT.append(b3)\n",
    "    bar_SO.append(b4)\n",
    "    bar_FI.append(b5)"
   ]
  },
  {
   "cell_type": "code",
   "execution_count": 71,
   "metadata": {
    "collapsed": false
   },
   "outputs": [
    {
     "data": {
      "image/png": "[encoded data removed]",
      "text/plain": [
       "<matplotlib.figure.Figure at 0xed5df373c8>"
      ]
     },
     "metadata": {},
     "output_type": "display_data"
    }
   ],
   "source": [
    "plt.figure(figsize=(25,15),dpi=100)\n",
    "p1 = plt.subplot(211)\n",
    "mondays = WeekdayLocator(MONDAY)\n",
    "#日期格式為‘15-Mar-09’形式\n",
    "weekFormatter = DateFormatter('%y %b %d')\n",
    "p1.xaxis.set_major_locator(mondays)\n",
    "p1.xaxis.set_minor_locator(DayLocator())\n",
    "p1.xaxis.set_major_formatter(weekFormatter)\n",
    "candlestick_ohlc(p1, stock, width = 0.5, colorup='r',colordown='g')\n",
    "p1.set_title('$Stock$ $Price$', fontsize= 30)\n",
    "\n",
    "p2 = plt.subplot(212)\n",
    "p2.xaxis.set_major_locator(mondays)\n",
    "p2.xaxis.set_minor_locator(DayLocator())\n",
    "p2.xaxis.set_major_formatter(weekFormatter)\n",
    "p2.set_title('$Trading$ $Volume$', fontsize= 30)\n",
    "p2.bar(bar_Time, bar_Volume, width=0.5, color='#80CED7', edgecolor= '#003249', linewidth= 1)\n",
    "#最大值\n",
    "p2.axhline(Volume[:days].max(), color='k', linestyle='dashed', linewidth=2)\n",
    "#最大值標號、箭頭\n",
    "p2.annotate('$Maximum$ $Volume$',xy=(stock[Volume[:days].argmax()][0], Volume[:days].max()),xytext=(stock[Volume[:days].argmax()][0]+5, Volume[:days].max() -10000),\n",
    "            arrowprops=dict(arrowstyle=\"->\",connectionstyle=\"arc3\"), color= '#003249', fontsize=20)\n",
    "#平均線\n",
    "p2.axhline(Volume[:days].mean(), color='k', linestyle='dashed', linewidth=1)\n",
    "#平均線標號、箭頭\n",
    "p2.annotate('$Average$ $Volume$',xy=(stock[1][0], Volume[:days].mean()),xytext=(stock[1][0], Volume[:days].mean() +10000),\n",
    "            arrowprops=dict(arrowstyle=\"->\",connectionstyle=\"arc3\"), color= '#003249', fontsize=20)\n",
    "\n",
    "p1.axvspan(stock[22][0]+1, stock[23][0]-1, fc='#4DC172')\n",
    "p1.text(stock[22][0]+1, openingPrice[:days].min(), '過年休市', fontsize= 30, color= 'k')\n",
    "\n",
    "p2.axvspan(stock[22][0]+1, stock[23][0]-1, fc='#4DC172')\n",
    "p2.text(stock[22][0]+1, Volume[:days].min(), '過年休市', fontsize= 30, color= 'k')\n",
    "#p1.grid(True, color='k', lw=1)\n",
    "plt.show()"
   ]
  }
 ],
 "metadata": {
  "anaconda-cloud": {},
  "kernelspec": {
   "display_name": "Python [Root]",
   "language": "python",
   "name": "Python [Root]"
  },
  "language_info": {
   "codemirror_mode": {
    "name": "ipython",
    "version": 3
   },
   "file_extension": ".py",
   "mimetype": "text/x-python",
   "name": "python",
   "nbconvert_exporter": "python",
   "pygments_lexer": "ipython3",
   "version": "3.5.2"
  }
 },
 "nbformat": 4,
 "nbformat_minor": 0
}
