{
 "cells": [
  {
   "cell_type": "code",
   "execution_count": 1,
   "metadata": {
    "collapsed": true
   },
   "outputs": [],
   "source": [
    "#import packages\n",
    "import numpy as np\n",
    "import matplotlib.pyplot as plt\n",
    "import pandas as pd\n",
    "%matplotlib inline"
   ]
  },
  {
   "cell_type": "code",
   "execution_count": 2,
   "metadata": {
    "collapsed": false
   },
   "outputs": [],
   "source": [
    "#read the file\n",
    "data = pd.read_excel(\"incomestatement.xlsx\")"
   ]
  },
  {
   "cell_type": "code",
   "execution_count": 3,
   "metadata": {
    "collapsed": false
   },
   "outputs": [
    {
     "data": {
      "text/html": [
       "<div>\n",
       "<table border=\"1\" class=\"dataframe\">\n",
       "  <thead>\n",
       "    <tr style=\"text-align: right;\">\n",
       "      <th></th>\n",
       "      <th>公司</th>\n",
       "      <th>年/月</th>\n",
       "      <th>營業收入淨額</th>\n",
       "      <th>營業成本</th>\n",
       "      <th>營業毛利</th>\n",
       "      <th>營業費用</th>\n",
       "      <th>研究發展費</th>\n",
       "      <th>營業利益</th>\n",
       "      <th>其他收入</th>\n",
       "      <th>其他利益及損失</th>\n",
       "      <th>...</th>\n",
       "      <th>綜合損益歸屬母公司</th>\n",
       "      <th>綜合損益歸屬非控制權益</th>\n",
       "      <th>每股盈餘</th>\n",
       "      <th>加權平均股數</th>\n",
       "      <th>稀釋稅後淨利</th>\n",
       "      <th>每股盈餘－完全稀釋</th>\n",
       "      <th>加權平均股數－稀釋</th>\n",
       "      <th>稅前息前淨利</th>\n",
       "      <th>稅前息前折舊前淨利</th>\n",
       "      <th>常續性稅後淨利</th>\n",
       "    </tr>\n",
       "  </thead>\n",
       "  <tbody>\n",
       "    <tr>\n",
       "      <th>0</th>\n",
       "      <td>4108 懷特</td>\n",
       "      <td>2017/12</td>\n",
       "      <td>53996</td>\n",
       "      <td>29783</td>\n",
       "      <td>24213</td>\n",
       "      <td>245565</td>\n",
       "      <td>146140</td>\n",
       "      <td>-268353</td>\n",
       "      <td>24512</td>\n",
       "      <td>-75</td>\n",
       "      <td>...</td>\n",
       "      <td>-201225</td>\n",
       "      <td>-37567</td>\n",
       "      <td>-1.26</td>\n",
       "      <td>163616</td>\n",
       "      <td>-206349</td>\n",
       "      <td>-1.26</td>\n",
       "      <td>163616</td>\n",
       "      <td>-243916</td>\n",
       "      <td>-193729</td>\n",
       "      <td>-243971</td>\n",
       "    </tr>\n",
       "    <tr>\n",
       "      <th>1</th>\n",
       "      <td>1734 杏輝</td>\n",
       "      <td>2017/12</td>\n",
       "      <td>2134163</td>\n",
       "      <td>1323904</td>\n",
       "      <td>810259</td>\n",
       "      <td>873286</td>\n",
       "      <td>363493</td>\n",
       "      <td>-63027</td>\n",
       "      <td>33974</td>\n",
       "      <td>-3022</td>\n",
       "      <td>...</td>\n",
       "      <td>25239</td>\n",
       "      <td>-122675</td>\n",
       "      <td>0.22</td>\n",
       "      <td>167722</td>\n",
       "      <td>36726</td>\n",
       "      <td>0.22</td>\n",
       "      <td>167722</td>\n",
       "      <td>-32075</td>\n",
       "      <td>206915</td>\n",
       "      <td>-89795</td>\n",
       "    </tr>\n",
       "    <tr>\n",
       "      <th>2</th>\n",
       "      <td>1762 中化生</td>\n",
       "      <td>2017/12</td>\n",
       "      <td>1168248</td>\n",
       "      <td>760382</td>\n",
       "      <td>407866</td>\n",
       "      <td>329731</td>\n",
       "      <td>149319</td>\n",
       "      <td>78135</td>\n",
       "      <td>13478</td>\n",
       "      <td>26275</td>\n",
       "      <td>...</td>\n",
       "      <td>88735</td>\n",
       "      <td>99</td>\n",
       "      <td>1.11</td>\n",
       "      <td>77560</td>\n",
       "      <td>85766</td>\n",
       "      <td>1.1</td>\n",
       "      <td>78201</td>\n",
       "      <td>117888</td>\n",
       "      <td>252014</td>\n",
       "      <td>44466</td>\n",
       "    </tr>\n",
       "    <tr>\n",
       "      <th>3</th>\n",
       "      <td>4108 懷特</td>\n",
       "      <td>2016/12</td>\n",
       "      <td>25021</td>\n",
       "      <td>12531</td>\n",
       "      <td>12490</td>\n",
       "      <td>251720</td>\n",
       "      <td>161613</td>\n",
       "      <td>-239230</td>\n",
       "      <td>25221</td>\n",
       "      <td>96</td>\n",
       "      <td>...</td>\n",
       "      <td>-193823</td>\n",
       "      <td>-34574</td>\n",
       "      <td>-1.19</td>\n",
       "      <td>163616</td>\n",
       "      <td>-194516</td>\n",
       "      <td>-1.19</td>\n",
       "      <td>163616</td>\n",
       "      <td>-213913</td>\n",
       "      <td>-164999</td>\n",
       "      <td>-229151</td>\n",
       "    </tr>\n",
       "    <tr>\n",
       "      <th>4</th>\n",
       "      <td>1734 杏輝</td>\n",
       "      <td>2016/12</td>\n",
       "      <td>2133511</td>\n",
       "      <td>1343598</td>\n",
       "      <td>789913</td>\n",
       "      <td>932071</td>\n",
       "      <td>382605</td>\n",
       "      <td>-142158</td>\n",
       "      <td>57996</td>\n",
       "      <td>71037</td>\n",
       "      <td>...</td>\n",
       "      <td>-52040</td>\n",
       "      <td>-131946</td>\n",
       "      <td>0.10</td>\n",
       "      <td>167722</td>\n",
       "      <td>16545</td>\n",
       "      <td>0.1</td>\n",
       "      <td>167722</td>\n",
       "      <td>-13125</td>\n",
       "      <td>246213</td>\n",
       "      <td>-137238</td>\n",
       "    </tr>\n",
       "  </tbody>\n",
       "</table>\n",
       "<p>5 rows × 31 columns</p>\n",
       "</div>"
      ],
      "text/plain": [
       "         公司      年/月   營業收入淨額     營業成本    營業毛利    營業費用    研究發展費    營業利益  \\\n",
       "0   4108 懷特  2017/12    53996    29783   24213  245565   146140 -268353   \n",
       "1   1734 杏輝  2017/12  2134163  1323904  810259  873286   363493  -63027   \n",
       "2  1762 中化生  2017/12  1168248   760382  407866  329731   149319   78135   \n",
       "3   4108 懷特  2016/12    25021    12531   12490  251720   161613 -239230   \n",
       "4   1734 杏輝  2016/12  2133511  1343598  789913  932071   382605 -142158   \n",
       "\n",
       "    其他收入  其他利益及損失   ...     綜合損益歸屬母公司  綜合損益歸屬非控制權益  每股盈餘  加權平均股數   稀釋稅後淨利  \\\n",
       "0  24512      -75   ...       -201225       -37567 -1.26  163616  -206349   \n",
       "1  33974    -3022   ...         25239      -122675  0.22  167722    36726   \n",
       "2  13478    26275   ...         88735           99  1.11   77560    85766   \n",
       "3  25221       96   ...       -193823       -34574 -1.19  163616  -194516   \n",
       "4  57996    71037   ...        -52040      -131946  0.10  167722    16545   \n",
       "\n",
       "   每股盈餘－完全稀釋  加權平均股數－稀釋  稅前息前淨利 稅前息前折舊前淨利  常續性稅後淨利  \n",
       "0      -1.26     163616 -243916   -193729  -243971  \n",
       "1       0.22     167722  -32075    206915   -89795  \n",
       "2        1.1      78201  117888    252014    44466  \n",
       "3      -1.19     163616 -213913   -164999  -229151  \n",
       "4        0.1     167722  -13125    246213  -137238  \n",
       "\n",
       "[5 rows x 31 columns]"
      ]
     },
     "execution_count": 3,
     "metadata": {},
     "output_type": "execute_result"
    }
   ],
   "source": [
    "#head() shows the top five piece of data\n",
    "data.head()"
   ]
  },
  {
   "cell_type": "code",
   "execution_count": 4,
   "metadata": {
    "collapsed": false
   },
   "outputs": [
    {
     "data": {
      "text/plain": [
       "Index(['公司', '年/月', '營業收入淨額', '營業成本', '營業毛利', '營業費用', '  研究發展費', '營業利益',\n",
       "       '其他收入', '其他利益及損失', '財務成本', '採權益法之關聯企業及合資損益之份額', '營業外收入及支出', '稅前淨利',\n",
       "       '所得稅費用', '繼續營業單位損益', '合併總損益', '其他綜合損益－OCI', '本期綜合損益總額', '歸屬母公司淨利（損）',\n",
       "       '歸屬非控制權益淨利（損）', '綜合損益歸屬母公司', '綜合損益歸屬非控制權益', '每股盈餘', '加權平均股數', '稀釋稅後淨利',\n",
       "       '每股盈餘－完全稀釋', '加權平均股數－稀釋', '稅前息前淨利', '稅前息前折舊前淨利', '常續性稅後淨利'],\n",
       "      dtype='object')"
      ]
     },
     "execution_count": 4,
     "metadata": {},
     "output_type": "execute_result"
    }
   ],
   "source": [
    "data.columns"
   ]
  },
  {
   "cell_type": "code",
   "execution_count": 5,
   "metadata": {
    "collapsed": false
   },
   "outputs": [],
   "source": [
    "data.sort_values(by= ['公司', '年/月'], ascending=True, inplace=True, na_position= 'first')"
   ]
  },
  {
   "cell_type": "code",
   "execution_count": 6,
   "metadata": {
    "collapsed": true
   },
   "outputs": [
    {
     "data": {
      "text/html": [
       "<div>\n",
       "<table border=\"1\" class=\"dataframe\">\n",
       "  <thead>\n",
       "    <tr style=\"text-align: right;\">\n",
       "      <th></th>\n",
       "      <th>公司</th>\n",
       "      <th>年/月</th>\n",
       "      <th>營業收入淨額</th>\n",
       "      <th>營業成本</th>\n",
       "      <th>營業毛利</th>\n",
       "      <th>營業費用</th>\n",
       "      <th>研究發展費</th>\n",
       "      <th>營業利益</th>\n",
       "      <th>其他收入</th>\n",
       "      <th>其他利益及損失</th>\n",
       "      <th>...</th>\n",
       "      <th>綜合損益歸屬母公司</th>\n",
       "      <th>綜合損益歸屬非控制權益</th>\n",
       "      <th>每股盈餘</th>\n",
       "      <th>加權平均股數</th>\n",
       "      <th>稀釋稅後淨利</th>\n",
       "      <th>每股盈餘－完全稀釋</th>\n",
       "      <th>加權平均股數－稀釋</th>\n",
       "      <th>稅前息前淨利</th>\n",
       "      <th>稅前息前折舊前淨利</th>\n",
       "      <th>常續性稅後淨利</th>\n",
       "    </tr>\n",
       "  </thead>\n",
       "  <tbody>\n",
       "    <tr>\n",
       "      <th>28</th>\n",
       "      <td>1734 杏輝</td>\n",
       "      <td>2008/12</td>\n",
       "      <td>1810427</td>\n",
       "      <td>1133505</td>\n",
       "      <td>676922</td>\n",
       "      <td>613834</td>\n",
       "      <td>128034</td>\n",
       "      <td>63088</td>\n",
       "      <td>34405</td>\n",
       "      <td>-18806</td>\n",
       "      <td>...</td>\n",
       "      <td>-</td>\n",
       "      <td>-</td>\n",
       "      <td>0.43</td>\n",
       "      <td>106553</td>\n",
       "      <td>48481</td>\n",
       "      <td>0.43</td>\n",
       "      <td>112600</td>\n",
       "      <td>73350</td>\n",
       "      <td>193038</td>\n",
       "      <td>48776</td>\n",
       "    </tr>\n",
       "    <tr>\n",
       "      <th>25</th>\n",
       "      <td>1734 杏輝</td>\n",
       "      <td>2009/12</td>\n",
       "      <td>1813468</td>\n",
       "      <td>1089574</td>\n",
       "      <td>723894</td>\n",
       "      <td>588984</td>\n",
       "      <td>133477</td>\n",
       "      <td>134910</td>\n",
       "      <td>33957</td>\n",
       "      <td>-5085</td>\n",
       "      <td>...</td>\n",
       "      <td>-</td>\n",
       "      <td>-</td>\n",
       "      <td>1.16</td>\n",
       "      <td>113328</td>\n",
       "      <td>133726</td>\n",
       "      <td>1.09</td>\n",
       "      <td>122739</td>\n",
       "      <td>162364</td>\n",
       "      <td>293905</td>\n",
       "      <td>110496</td>\n",
       "    </tr>\n",
       "    <tr>\n",
       "      <th>22</th>\n",
       "      <td>1734 杏輝</td>\n",
       "      <td>2010/12</td>\n",
       "      <td>1822648</td>\n",
       "      <td>1128481</td>\n",
       "      <td>694167</td>\n",
       "      <td>596828</td>\n",
       "      <td>151962</td>\n",
       "      <td>97339</td>\n",
       "      <td>50574</td>\n",
       "      <td>-11058</td>\n",
       "      <td>...</td>\n",
       "      <td>-</td>\n",
       "      <td>-</td>\n",
       "      <td>0.88</td>\n",
       "      <td>126239</td>\n",
       "      <td>111276</td>\n",
       "      <td>0.87</td>\n",
       "      <td>127759</td>\n",
       "      <td>136855</td>\n",
       "      <td>282123</td>\n",
       "      <td>105804</td>\n",
       "    </tr>\n",
       "    <tr>\n",
       "      <th>19</th>\n",
       "      <td>1734 杏輝</td>\n",
       "      <td>2011/12</td>\n",
       "      <td>1840266</td>\n",
       "      <td>1146463</td>\n",
       "      <td>693803</td>\n",
       "      <td>631156</td>\n",
       "      <td>185198</td>\n",
       "      <td>62647</td>\n",
       "      <td>43380</td>\n",
       "      <td>-1879</td>\n",
       "      <td>...</td>\n",
       "      <td>-</td>\n",
       "      <td>-</td>\n",
       "      <td>0.55</td>\n",
       "      <td>132157</td>\n",
       "      <td>72229</td>\n",
       "      <td>0.54</td>\n",
       "      <td>132721</td>\n",
       "      <td>104148</td>\n",
       "      <td>266197</td>\n",
       "      <td>63925</td>\n",
       "    </tr>\n",
       "    <tr>\n",
       "      <th>16</th>\n",
       "      <td>1734 杏輝</td>\n",
       "      <td>2012/12</td>\n",
       "      <td>2086627</td>\n",
       "      <td>1312783</td>\n",
       "      <td>773844</td>\n",
       "      <td>647658</td>\n",
       "      <td>175707</td>\n",
       "      <td>126186</td>\n",
       "      <td>58427</td>\n",
       "      <td>-19070</td>\n",
       "      <td>...</td>\n",
       "      <td>100020</td>\n",
       "      <td>-23568</td>\n",
       "      <td>0.83</td>\n",
       "      <td>149325</td>\n",
       "      <td>124378</td>\n",
       "      <td>-</td>\n",
       "      <td>-</td>\n",
       "      <td>165543</td>\n",
       "      <td>328513</td>\n",
       "      <td>123299</td>\n",
       "    </tr>\n",
       "  </tbody>\n",
       "</table>\n",
       "<p>5 rows × 31 columns</p>\n",
       "</div>"
      ],
      "text/plain": [
       "         公司      年/月   營業收入淨額     營業成本    營業毛利    營業費用    研究發展費    營業利益  \\\n",
       "28  1734 杏輝  2008/12  1810427  1133505  676922  613834   128034   63088   \n",
       "25  1734 杏輝  2009/12  1813468  1089574  723894  588984   133477  134910   \n",
       "22  1734 杏輝  2010/12  1822648  1128481  694167  596828   151962   97339   \n",
       "19  1734 杏輝  2011/12  1840266  1146463  693803  631156   185198   62647   \n",
       "16  1734 杏輝  2012/12  2086627  1312783  773844  647658   175707  126186   \n",
       "\n",
       "     其他收入  其他利益及損失   ...     綜合損益歸屬母公司  綜合損益歸屬非控制權益  每股盈餘  加權平均股數  稀釋稅後淨利  \\\n",
       "28  34405   -18806   ...             -            -  0.43  106553   48481   \n",
       "25  33957    -5085   ...             -            -  1.16  113328  133726   \n",
       "22  50574   -11058   ...             -            -  0.88  126239  111276   \n",
       "19  43380    -1879   ...             -            -  0.55  132157   72229   \n",
       "16  58427   -19070   ...        100020       -23568  0.83  149325  124378   \n",
       "\n",
       "    每股盈餘－完全稀釋  加權平均股數－稀釋  稅前息前淨利 稅前息前折舊前淨利  常續性稅後淨利  \n",
       "28       0.43     112600   73350    193038    48776  \n",
       "25       1.09     122739  162364    293905   110496  \n",
       "22       0.87     127759  136855    282123   105804  \n",
       "19       0.54     132721  104148    266197    63925  \n",
       "16          -          -  165543    328513   123299  \n",
       "\n",
       "[5 rows x 31 columns]"
      ]
     },
     "execution_count": 6,
     "metadata": {},
     "output_type": "execute_result"
    }
   ],
   "source": [
    "data.head()"
   ]
  },
  {
   "cell_type": "code",
   "execution_count": 7,
   "metadata": {
    "collapsed": true
   },
   "outputs": [
    {
     "data": {
      "text/html": [
       "<div>\n",
       "<table border=\"1\" class=\"dataframe\">\n",
       "  <thead>\n",
       "    <tr style=\"text-align: right;\">\n",
       "      <th></th>\n",
       "      <th>營業收入淨額</th>\n",
       "      <th>營業成本</th>\n",
       "      <th>營業毛利</th>\n",
       "      <th>營業費用</th>\n",
       "      <th>研究發展費</th>\n",
       "      <th>營業利益</th>\n",
       "      <th>其他收入</th>\n",
       "      <th>其他利益及損失</th>\n",
       "      <th>財務成本</th>\n",
       "      <th>採權益法之關聯企業及合資損益之份額</th>\n",
       "      <th>...</th>\n",
       "      <th>所得稅費用</th>\n",
       "      <th>繼續營業單位損益</th>\n",
       "      <th>合併總損益</th>\n",
       "      <th>歸屬母公司淨利（損）</th>\n",
       "      <th>歸屬非控制權益淨利（損）</th>\n",
       "      <th>每股盈餘</th>\n",
       "      <th>加權平均股數</th>\n",
       "      <th>稅前息前淨利</th>\n",
       "      <th>稅前息前折舊前淨利</th>\n",
       "      <th>常續性稅後淨利</th>\n",
       "    </tr>\n",
       "  </thead>\n",
       "  <tbody>\n",
       "    <tr>\n",
       "      <th>count</th>\n",
       "      <td>1.000000e+01</td>\n",
       "      <td>1.000000e+01</td>\n",
       "      <td>1.000000e+01</td>\n",
       "      <td>10.000000</td>\n",
       "      <td>10.000000</td>\n",
       "      <td>10.000000</td>\n",
       "      <td>10.00000</td>\n",
       "      <td>10.000000</td>\n",
       "      <td>10.000000</td>\n",
       "      <td>10.000000</td>\n",
       "      <td>...</td>\n",
       "      <td>10.000000</td>\n",
       "      <td>10.00000</td>\n",
       "      <td>10.00000</td>\n",
       "      <td>10.000000</td>\n",
       "      <td>10.000000</td>\n",
       "      <td>10.000000</td>\n",
       "      <td>10.000000</td>\n",
       "      <td>10.000000</td>\n",
       "      <td>10.00000</td>\n",
       "      <td>10.000000</td>\n",
       "    </tr>\n",
       "    <tr>\n",
       "      <th>mean</th>\n",
       "      <td>2.104856e+06</td>\n",
       "      <td>1.305187e+06</td>\n",
       "      <td>7.996693e+05</td>\n",
       "      <td>753916.700000</td>\n",
       "      <td>243999.900000</td>\n",
       "      <td>45752.600000</td>\n",
       "      <td>55739.60000</td>\n",
       "      <td>20709.100000</td>\n",
       "      <td>20180.100000</td>\n",
       "      <td>-675.500000</td>\n",
       "      <td>...</td>\n",
       "      <td>40712.800000</td>\n",
       "      <td>60632.90000</td>\n",
       "      <td>60632.90000</td>\n",
       "      <td>101606.200000</td>\n",
       "      <td>-40973.300000</td>\n",
       "      <td>0.728000</td>\n",
       "      <td>143491.300000</td>\n",
       "      <td>121525.800000</td>\n",
       "      <td>302358.20000</td>\n",
       "      <td>38989.500000</td>\n",
       "    </tr>\n",
       "    <tr>\n",
       "      <th>std</th>\n",
       "      <td>3.059643e+05</td>\n",
       "      <td>1.834354e+05</td>\n",
       "      <td>1.299306e+05</td>\n",
       "      <td>151373.764868</td>\n",
       "      <td>103949.358047</td>\n",
       "      <td>114714.800841</td>\n",
       "      <td>20122.84859</td>\n",
       "      <td>64843.341336</td>\n",
       "      <td>5458.334106</td>\n",
       "      <td>1697.425845</td>\n",
       "      <td>...</td>\n",
       "      <td>31183.329153</td>\n",
       "      <td>123872.67064</td>\n",
       "      <td>123872.67064</td>\n",
       "      <td>86914.131818</td>\n",
       "      <td>48264.934911</td>\n",
       "      <td>0.589082</td>\n",
       "      <td>22546.061755</td>\n",
       "      <td>141088.423331</td>\n",
       "      <td>124829.88544</td>\n",
       "      <td>102038.756189</td>\n",
       "    </tr>\n",
       "    <tr>\n",
       "      <th>min</th>\n",
       "      <td>1.810427e+06</td>\n",
       "      <td>1.089574e+06</td>\n",
       "      <td>6.769220e+05</td>\n",
       "      <td>588984.000000</td>\n",
       "      <td>128034.000000</td>\n",
       "      <td>-142158.000000</td>\n",
       "      <td>33957.00000</td>\n",
       "      <td>-19070.000000</td>\n",
       "      <td>13357.000000</td>\n",
       "      <td>-5337.000000</td>\n",
       "      <td>...</td>\n",
       "      <td>8628.000000</td>\n",
       "      <td>-90166.00000</td>\n",
       "      <td>-90166.00000</td>\n",
       "      <td>13952.000000</td>\n",
       "      <td>-126892.000000</td>\n",
       "      <td>0.090000</td>\n",
       "      <td>106553.000000</td>\n",
       "      <td>-37985.000000</td>\n",
       "      <td>189147.00000</td>\n",
       "      <td>-137238.000000</td>\n",
       "    </tr>\n",
       "    <tr>\n",
       "      <th>25%</th>\n",
       "      <td>1.827052e+06</td>\n",
       "      <td>1.136744e+06</td>\n",
       "      <td>7.015988e+05</td>\n",
       "      <td>618164.500000</td>\n",
       "      <td>157898.250000</td>\n",
       "      <td>-31608.500000</td>\n",
       "      <td>36648.75000</td>\n",
       "      <td>-9564.750000</td>\n",
       "      <td>17534.250000</td>\n",
       "      <td>0.000000</td>\n",
       "      <td>...</td>\n",
       "      <td>25040.500000</td>\n",
       "      <td>-40307.50000</td>\n",
       "      <td>-40307.50000</td>\n",
       "      <td>39090.500000</td>\n",
       "      <td>-76647.000000</td>\n",
       "      <td>0.272500</td>\n",
       "      <td>127718.500000</td>\n",
       "      <td>8493.750000</td>\n",
       "      <td>216739.50000</td>\n",
       "      <td>-47996.500000</td>\n",
       "    </tr>\n",
       "    <tr>\n",
       "      <th>50%</th>\n",
       "      <td>2.110069e+06</td>\n",
       "      <td>1.318344e+06</td>\n",
       "      <td>7.799135e+05</td>\n",
       "      <td>724715.000000</td>\n",
       "      <td>205525.000000</td>\n",
       "      <td>80213.500000</td>\n",
       "      <td>54285.00000</td>\n",
       "      <td>-2450.500000</td>\n",
       "      <td>20471.000000</td>\n",
       "      <td>0.000000</td>\n",
       "      <td>...</td>\n",
       "      <td>29082.000000</td>\n",
       "      <td>81442.00000</td>\n",
       "      <td>81442.00000</td>\n",
       "      <td>91579.500000</td>\n",
       "      <td>-16795.000000</td>\n",
       "      <td>0.690000</td>\n",
       "      <td>149325.000000</td>\n",
       "      <td>120501.500000</td>\n",
       "      <td>274160.00000</td>\n",
       "      <td>84864.500000</td>\n",
       "    </tr>\n",
       "    <tr>\n",
       "      <th>75%</th>\n",
       "      <td>2.174092e+06</td>\n",
       "      <td>1.386963e+06</td>\n",
       "      <td>8.051725e+05</td>\n",
       "      <td>904009.000000</td>\n",
       "      <td>348553.750000</td>\n",
       "      <td>132729.000000</td>\n",
       "      <td>71493.50000</td>\n",
       "      <td>4055.750000</td>\n",
       "      <td>21016.500000</td>\n",
       "      <td>0.000000</td>\n",
       "      <td>...</td>\n",
       "      <td>37688.000000</td>\n",
       "      <td>108513.50000</td>\n",
       "      <td>108513.50000</td>\n",
       "      <td>129370.000000</td>\n",
       "      <td>-9855.500000</td>\n",
       "      <td>0.977500</td>\n",
       "      <td>161271.000000</td>\n",
       "      <td>164748.250000</td>\n",
       "      <td>319861.00000</td>\n",
       "      <td>109469.500000</td>\n",
       "    </tr>\n",
       "    <tr>\n",
       "      <th>max</th>\n",
       "      <td>2.642145e+06</td>\n",
       "      <td>1.613625e+06</td>\n",
       "      <td>1.083626e+06</td>\n",
       "      <td>939328.000000</td>\n",
       "      <td>382605.000000</td>\n",
       "      <td>162510.000000</td>\n",
       "      <td>84562.00000</td>\n",
       "      <td>190191.000000</td>\n",
       "      <td>33433.000000</td>\n",
       "      <td>0.000000</td>\n",
       "      <td>...</td>\n",
       "      <td>108406.000000</td>\n",
       "      <td>324735.00000</td>\n",
       "      <td>324735.00000</td>\n",
       "      <td>300691.000000</td>\n",
       "      <td>24044.000000</td>\n",
       "      <td>2.010000</td>\n",
       "      <td>167722.000000</td>\n",
       "      <td>428550.000000</td>\n",
       "      <td>596892.00000</td>\n",
       "      <td>138492.000000</td>\n",
       "    </tr>\n",
       "  </tbody>\n",
       "</table>\n",
       "<p>8 rows × 22 columns</p>\n",
       "</div>"
      ],
      "text/plain": [
       "             營業收入淨額          營業成本          營業毛利           營業費用          研究發展費  \\\n",
       "count  1.000000e+01  1.000000e+01  1.000000e+01      10.000000      10.000000   \n",
       "mean   2.104856e+06  1.305187e+06  7.996693e+05  753916.700000  243999.900000   \n",
       "std    3.059643e+05  1.834354e+05  1.299306e+05  151373.764868  103949.358047   \n",
       "min    1.810427e+06  1.089574e+06  6.769220e+05  588984.000000  128034.000000   \n",
       "25%    1.827052e+06  1.136744e+06  7.015988e+05  618164.500000  157898.250000   \n",
       "50%    2.110069e+06  1.318344e+06  7.799135e+05  724715.000000  205525.000000   \n",
       "75%    2.174092e+06  1.386963e+06  8.051725e+05  904009.000000  348553.750000   \n",
       "max    2.642145e+06  1.613625e+06  1.083626e+06  939328.000000  382605.000000   \n",
       "\n",
       "                營業利益         其他收入        其他利益及損失          財務成本  \\\n",
       "count      10.000000     10.00000      10.000000     10.000000   \n",
       "mean    45752.600000  55739.60000   20709.100000  20180.100000   \n",
       "std    114714.800841  20122.84859   64843.341336   5458.334106   \n",
       "min   -142158.000000  33957.00000  -19070.000000  13357.000000   \n",
       "25%    -31608.500000  36648.75000   -9564.750000  17534.250000   \n",
       "50%     80213.500000  54285.00000   -2450.500000  20471.000000   \n",
       "75%    132729.000000  71493.50000    4055.750000  21016.500000   \n",
       "max    162510.000000  84562.00000  190191.000000  33433.000000   \n",
       "\n",
       "       採權益法之關聯企業及合資損益之份額      ...                所得稅費用      繼續營業單位損益  \\\n",
       "count          10.000000      ...            10.000000      10.00000   \n",
       "mean         -675.500000      ...         40712.800000   60632.90000   \n",
       "std          1697.425845      ...         31183.329153  123872.67064   \n",
       "min         -5337.000000      ...          8628.000000  -90166.00000   \n",
       "25%             0.000000      ...         25040.500000  -40307.50000   \n",
       "50%             0.000000      ...         29082.000000   81442.00000   \n",
       "75%             0.000000      ...         37688.000000  108513.50000   \n",
       "max             0.000000      ...        108406.000000  324735.00000   \n",
       "\n",
       "              合併總損益     歸屬母公司淨利（損）   歸屬非控制權益淨利（損）       每股盈餘         加權平均股數  \\\n",
       "count      10.00000      10.000000      10.000000  10.000000      10.000000   \n",
       "mean    60632.90000  101606.200000  -40973.300000   0.728000  143491.300000   \n",
       "std    123872.67064   86914.131818   48264.934911   0.589082   22546.061755   \n",
       "min    -90166.00000   13952.000000 -126892.000000   0.090000  106553.000000   \n",
       "25%    -40307.50000   39090.500000  -76647.000000   0.272500  127718.500000   \n",
       "50%     81442.00000   91579.500000  -16795.000000   0.690000  149325.000000   \n",
       "75%    108513.50000  129370.000000   -9855.500000   0.977500  161271.000000   \n",
       "max    324735.00000  300691.000000   24044.000000   2.010000  167722.000000   \n",
       "\n",
       "              稅前息前淨利     稅前息前折舊前淨利        常續性稅後淨利  \n",
       "count      10.000000      10.00000      10.000000  \n",
       "mean   121525.800000  302358.20000   38989.500000  \n",
       "std    141088.423331  124829.88544  102038.756189  \n",
       "min    -37985.000000  189147.00000 -137238.000000  \n",
       "25%      8493.750000  216739.50000  -47996.500000  \n",
       "50%    120501.500000  274160.00000   84864.500000  \n",
       "75%    164748.250000  319861.00000  109469.500000  \n",
       "max    428550.000000  596892.00000  138492.000000  \n",
       "\n",
       "[8 rows x 22 columns]"
      ]
     },
     "execution_count": 7,
     "metadata": {},
     "output_type": "execute_result"
    }
   ],
   "source": [
    "data.iloc[:10,:].describe()"
   ]
  },
  {
   "cell_type": "code",
   "execution_count": 8,
   "metadata": {
    "collapsed": false,
    "scrolled": true
   },
   "outputs": [],
   "source": [
    "#choose the column of time and Closing_Price\n",
    "Time = data['年/月']\n",
    "Incomebeforeincometax = data['稅前淨利']\n",
    "Invest_cost = data['  研究發展費']\n",
    "EPS = data['每股盈餘']"
   ]
  },
  {
   "cell_type": "code",
   "execution_count": 9,
   "metadata": {
    "collapsed": true
   },
   "outputs": [],
   "source": [
    "Timea = pd.to_datetime(data['年/月'])"
   ]
  },
  {
   "cell_type": "code",
   "execution_count": 10,
   "metadata": {
    "collapsed": true
   },
   "outputs": [
    {
     "data": {
      "text/plain": [
       "28   2008-12-01\n",
       "25   2009-12-01\n",
       "22   2010-12-01\n",
       "19   2011-12-01\n",
       "16   2012-12-01\n",
       "13   2013-12-01\n",
       "10   2014-12-01\n",
       "7    2015-12-01\n",
       "4    2016-12-01\n",
       "1    2017-12-01\n",
       "29   2008-12-01\n",
       "26   2009-12-01\n",
       "23   2010-12-01\n",
       "20   2011-12-01\n",
       "17   2012-12-01\n",
       "14   2013-12-01\n",
       "11   2014-12-01\n",
       "8    2015-12-01\n",
       "5    2016-12-01\n",
       "2    2017-12-01\n",
       "27   2008-12-01\n",
       "24   2009-12-01\n",
       "21   2010-12-01\n",
       "18   2011-12-01\n",
       "15   2012-12-01\n",
       "12   2013-12-01\n",
       "9    2014-12-01\n",
       "6    2015-12-01\n",
       "3    2016-12-01\n",
       "0    2017-12-01\n",
       "Name: 年/月, dtype: datetime64[ns]"
      ]
     },
     "execution_count": 10,
     "metadata": {},
     "output_type": "execute_result"
    }
   ],
   "source": [
    "Timea"
   ]
  },
  {
   "cell_type": "code",
   "execution_count": 11,
   "metadata": {
    "collapsed": false
   },
   "outputs": [],
   "source": [
    "Time.reset_index(drop=True, inplace=True)"
   ]
  },
  {
   "cell_type": "code",
   "execution_count": 12,
   "metadata": {
    "collapsed": true
   },
   "outputs": [],
   "source": [
    "#trans object to datetime for drawing a picture\n",
    "Time1 = pd.to_datetime(Time)"
   ]
  },
  {
   "cell_type": "code",
   "execution_count": 13,
   "metadata": {
    "collapsed": false,
    "scrolled": true
   },
   "outputs": [
    {
     "data": {
      "text/plain": [
       "28     39917\n",
       "25    141254\n",
       "22    123498\n",
       "19     89477\n",
       "16    148351\n",
       "Name: 稅前淨利, dtype: int64"
      ]
     },
     "execution_count": 13,
     "metadata": {},
     "output_type": "execute_result"
    }
   ],
   "source": [
    "#take a look at income befor income tax; It's float. \n",
    "Incomebeforeincometax.head()"
   ]
  },
  {
   "cell_type": "markdown",
   "metadata": {
    "collapsed": true
   },
   "source": [
    "處理時間"
   ]
  },
  {
   "cell_type": "code",
   "execution_count": 14,
   "metadata": {
    "collapsed": true
   },
   "outputs": [],
   "source": [
    "from time import strftime, strptime"
   ]
  },
  {
   "cell_type": "code",
   "execution_count": 15,
   "metadata": {
    "collapsed": true
   },
   "outputs": [],
   "source": [
    "#String\n",
    "Time1 = Time.values"
   ]
  },
  {
   "cell_type": "code",
   "execution_count": 16,
   "metadata": {
    "collapsed": false
   },
   "outputs": [
    {
     "data": {
      "text/plain": [
       "'2009/12'"
      ]
     },
     "execution_count": 16,
     "metadata": {},
     "output_type": "execute_result"
    }
   ],
   "source": [
    "Time1[1]"
   ]
  },
  {
   "cell_type": "code",
   "execution_count": 17,
   "metadata": {
    "collapsed": false
   },
   "outputs": [],
   "source": [
    "#string to structure_time\n",
    "t2 = strptime(Time1[0],\"%Y/%m\")#字串依照年月日切開放到t2"
   ]
  },
  {
   "cell_type": "code",
   "execution_count": 18,
   "metadata": {
    "collapsed": false
   },
   "outputs": [
    {
     "data": {
      "text/plain": [
       "time.struct_time(tm_year=2008, tm_mon=12, tm_mday=1, tm_hour=0, tm_min=0, tm_sec=0, tm_wday=0, tm_yday=336, tm_isdst=-1)"
      ]
     },
     "execution_count": 18,
     "metadata": {},
     "output_type": "execute_result"
    }
   ],
   "source": [
    "#seperate into categories\n",
    "t2"
   ]
  },
  {
   "cell_type": "code",
   "execution_count": 19,
   "metadata": {
    "collapsed": false
   },
   "outputs": [],
   "source": [
    "#call the content from t2 and store in \"a\" as string type.\n",
    "a = strftime(\"%Y %m\",t2)"
   ]
  },
  {
   "cell_type": "code",
   "execution_count": 21,
   "metadata": {
    "collapsed": false
   },
   "outputs": [],
   "source": [
    "films = data['公司']\n",
    "films.reset_index(drop=True, inplace= True)"
   ]
  },
  {
   "cell_type": "code",
   "execution_count": 22,
   "metadata": {
    "collapsed": false
   },
   "outputs": [],
   "source": [
    "Company= []\n",
    "Company.append(films[0])\n",
    "Company.append(films[10])\n",
    "Company.append(films[20])"
   ]
  },
  {
   "cell_type": "markdown",
   "metadata": {},
   "source": [
    "**np.array轉換為list包string, 讓時間標籤可以讀**"
   ]
  },
  {
   "cell_type": "code",
   "execution_count": 23,
   "metadata": {
    "collapsed": false
   },
   "outputs": [],
   "source": [
    "b = Time1.tolist()"
   ]
  },
  {
   "cell_type": "code",
   "execution_count": 32,
   "metadata": {
    "collapsed": false
   },
   "outputs": [
    {
     "data": {
      "text/plain": [
       "array(['2008/12', '2009/12', '2010/12', '2011/12', '2012/12', '2013/12',\n",
       "       '2014/12', '2015/12', '2016/12', '2017/12', '2008/12', '2009/12',\n",
       "       '2010/12', '2011/12', '2012/12', '2013/12', '2014/12', '2015/12',\n",
       "       '2016/12', '2017/12', '2008/12', '2009/12', '2010/12', '2011/12',\n",
       "       '2012/12', '2013/12', '2014/12', '2015/12', '2016/12', '2017/12'], dtype=object)"
      ]
     },
     "execution_count": 32,
     "metadata": {},
     "output_type": "execute_result"
    }
   ],
   "source": [
    "Time1"
   ]
  },
  {
   "cell_type": "markdown",
   "metadata": {},
   "source": [
    "**個股EPS折線圖**"
   ]
  },
  {
   "cell_type": "code",
   "execution_count": 24,
   "metadata": {
    "collapsed": false
   },
   "outputs": [
    {
     "data": {
      "image/png": "[encoded data removed]",
      "text/plain": [
       "<matplotlib.figure.Figure at 0xf5c7e14518>"
      ]
     },
     "metadata": {},
     "output_type": "display_data"
    }
   ],
   "source": [
    "plt.figure(figsize=(12,7),dpi=100)\n",
    "COLORS = [\"#FCE302\", \"#0CF42B\", \"#FF0077\", \"#2FB6F9\", \"#FF07F6\"]\n",
    "for i in range(3):\n",
    "    plt.plot( np.arange(10), EPS[0+10*i:10+10*i], color = COLORS[i], label=Company[i], lw=3, ls= '--',\n",
    "             marker =\"o\", mew = 2, mec = COLORS[i], alpha=0.8)\n",
    "\n",
    "plt.title(\"$EPS$\", color= 'k', fontsize= 20)\n",
    "plt.ylabel(\"$EPS$\", color= 'k', fontsize = 20)    \n",
    "#新增x軸標籤,旋轉45度可以避免卡在一起\n",
    "plt.xticks(np.arange(10), b, color ='k', fontsize= 15, rotation = 20)\n",
    "#圖例\n",
    "leg= plt.legend(loc='lower right', ncol=1, shadow=True, fancybox=True)\n",
    "leg.get_frame().set_alpha(0.8)\n",
    "\n",
    "plt.grid(axis='y', ls= '-.', color='k')\n",
    "plt.show()"
   ]
  },
  {
   "cell_type": "code",
   "execution_count": 25,
   "metadata": {
    "collapsed": false
   },
   "outputs": [
    {
     "data": {
      "image/png": "[encoded data removed]",
      "text/plain": [
       "<matplotlib.figure.Figure at 0xf5c7ddf8d0>"
      ]
     },
     "metadata": {},
     "output_type": "display_data"
    }
   ],
   "source": [
    "plt.figure(figsize=(12,7),dpi=100)\n",
    "COLORS = [\"#FCE302\", \"#0CF42B\", \"#FF0077\", \"#2FB6F9\", \"#FF07F6\"]\n",
    "for i in range(3):\n",
    "    plt.plot( np.arange(10), Incomebeforeincometax[0+10*i:10+10*i], color = COLORS[i], label=Company[i], lw=3, ls= '--',\n",
    "             marker =\"o\", mew = 2, mec = COLORS[i], alpha=0.8)\n",
    "\n",
    "plt.title(\"$Income$ $before$ $income$ $tax$\", color= 'k', fontsize= 20)\n",
    "plt.ylabel(\"$Income$ $before$ $income$ $tax$\", color= 'k', fontsize = 20)    \n",
    "#新增x軸標籤,旋轉45度可以避免卡在一起\n",
    "plt.xticks(np.arange(10), b, color ='k', fontsize= 15, rotation = 20)\n",
    "#圖例\n",
    "leg= plt.legend(loc='lower right', ncol=1, shadow=True, fancybox=True)\n",
    "leg.get_frame().set_alpha(0.8)\n",
    "\n",
    "plt.grid(axis='y', ls= '-.', color='k')\n",
    "plt.show()"
   ]
  },
  {
   "cell_type": "code",
   "execution_count": 26,
   "metadata": {
    "collapsed": false
   },
   "outputs": [
    {
     "data": {
      "image/png": "[encoded data removed]",
      "text/plain": [
       "<matplotlib.figure.Figure at 0xf5ca6e1320>"
      ]
     },
     "metadata": {},
     "output_type": "display_data"
    }
   ],
   "source": [
    "#定義函數\n",
    "def f1(t):\n",
    "    return np.exp(-t)*np.cos(2*np.pi*t)\n",
    "\n",
    "def f2(t):\n",
    "    return np.sin(2*np.pi*t)*np.cos(3*np.pi*t)\n",
    "#資料輸入數值\n",
    "t = np.arange(0.0,5,0.02)\n",
    "\n",
    "#設定畫布 figsize(左右寬度,上下長度), dpi 視窗大小\n",
    "plt.figure(figsize=(10,7),dpi=100)\n",
    "#分配上下兩圖 subplot(column row index)\n",
    "p1 = plt.subplot(211)#(2columnwidth 1rowlength index1)\n",
    "p2 = plt.subplot(212)#(2columnwidth 1rowlength index2)\n",
    "\n",
    "#數學式$式子$\n",
    "label_f1 = \"$f(t)=e^{-t} \\cos (2 \\pi t)$\"\n",
    "label_f2 = \"$g(t)=\\sin (2 \\pi t) \\cos (3 \\pi t)$\"\n",
    "\n",
    "#圖案主體\n",
    "p1.plot(t,f1(t),\"g-\",label=label_f1)\n",
    "p2.plot(t,f2(t), color = \"#F98BB0\", label=label_f2, lw=5)\n",
    "\n",
    "#設定p1 x,y軸上下界刻度\n",
    "p1.axis([0.0,5.01,-1.0,1.5])\n",
    "\n",
    "#p1 x,y軸標題\n",
    "p1.set_xlabel(\"$x$\", fontsize=14, color = \"#103900\")\n",
    "p1.set_ylabel(\"$y$\", fontsize=14, color = \"#103900\")\n",
    "\n",
    "#P1圖形標題,fontisize字體大小\n",
    "p1.set_title(label_f1,fontsize=18, loc =\"right\", color = \"#103900\")\n",
    "#格線\n",
    "p1.grid(True)\n",
    "#圖例\n",
    "#p1.legend()\n",
    "\n",
    "#p1註解標籤位置\n",
    "tx = 2\n",
    "ty = 0.9\n",
    "#p1.text(tx,ty,label_f1,fontsize=15,verticalalignment=\"top\",horizontalalignment=\"right\")\n",
    "#https://matplotlib.org/users/text_props.html\n",
    "\n",
    "#最大值標籤, axis setting\n",
    "max_y = max(f1(t)) \n",
    "max_x = t[np.where(max(f1(t)))]\n",
    "p1.text(max_x,max_y+0.35,\"$max$\",fontsize= 15,verticalalignment=\"top\",horizontalalignment=\"left\")\n",
    "#最大值箭頭設定\n",
    "p1.annotate('',xy=(max_x, max_y),xytext=(max_x +0.2, max_y + 0.2),arrowprops=dict(arrowstyle=\"->\",connectionstyle=\"arc3\"))\n",
    "\n",
    "#最小標籤\n",
    "min_y = min(f1(t))\n",
    "min_x = t[np.argmin(f1(t))]\n",
    "p1.text(min_x-0.1,min_y-0.2,\"$min$\", fontsize = 15, verticalalignment = \"top\", horizontalalignment = \"right\")\n",
    "p1.annotate('',xy=(min_x, min_y),xytext=(min_x -0.2, min_y - 0.2),arrowprops=dict(arrowstyle=\"->\",connectionstyle=\"arc3\"))\n",
    "\n",
    "\n",
    "p2.axis([0.0,5.01,-1.0,1.5])\n",
    "p2.set_ylabel(\"$y$\",fontsize=14, color = \"#F92A6F\")\n",
    "p2.set_xlabel(\"$x$\",fontsize=14, color = \"#F92A6F\")\n",
    "p2.set_title(label_f2,fontsize=18, loc = \"right\", color = \"#F98BB0\")\n",
    "#p2.legend()\n",
    "\n",
    "tx = 2\n",
    "ty = 0.9\n",
    "p2.text(tx,ty,label_f2,fontsize=15,verticalalignment=\"bottom\",horizontalalignment=\"right\")\n",
    "p2.annotate('',xy=(1.8,0.5),xytext=(tx,ty),arrowprops=dict(facecolor=\"#F98BB0\", shrink=0.01))\n",
    "\n",
    "plt.show()\n",
    "\n",
    "#plt.savefig('arrow.png', transparent = True, bbox_inches = 'tight', pad_inches = 0.25) "
   ]
  }
 ],
 "metadata": {
  "anaconda-cloud": {},
  "kernelspec": {
   "display_name": "Python [Root]",
   "language": "python",
   "name": "Python [Root]"
  },
  "language_info": {
   "codemirror_mode": {
    "name": "ipython",
    "version": 3
   },
   "file_extension": ".py",
   "mimetype": "text/x-python",
   "name": "python",
   "nbconvert_exporter": "python",
   "pygments_lexer": "ipython3",
   "version": "3.5.2"
  }
 },
 "nbformat": 4,
 "nbformat_minor": 0
}
