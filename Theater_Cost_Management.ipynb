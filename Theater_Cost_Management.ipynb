{
 "cells": [
  {
   "cell_type": "markdown",
   "metadata": {},
   "source": [
    "1. I/O = 對話機器人、本地端 =  網頁、資料庫\n",
    "* User control, plot to control operating\n",
    "* Predict Sales based on historical data"
   ]
  },
  {
   "cell_type": "markdown",
   "metadata": {},
   "source": [
    "## Python for internal control\n",
    "### Target: Time update budget, cost allocated for each object, target sales."
   ]
  },
  {
   "cell_type": "markdown",
   "metadata": {},
   "source": [
    "* Film: VIESHOW CINEMAS\n",
    "* Period: one month\n",
    "* Renewed for each operating activity"
   ]
  },
  {
   "cell_type": "markdown",
   "metadata": {},
   "source": [
    "\n",
    "* Profit = Net income(NI) = (Revenue(REV)- Expense(EXP))*(1-Tax rate)\n",
    "<br><br>\n",
    "    * Income before income tax = Revenue - Expense\n",
    "<br><br>\n",
    "    * Revenue = Sales of ticket(Sales_T) + Sales of snake(Sales_SN) + Sales of beverage(Sales_BEV)\n",
    "        1. Sales of ticket =  Ticket Price(Price_T)* Sales Volume of Ticket(VOL_T)\n",
    "            * 3 sorts of ticket Price= {A box: 500; B box: 300; C box: 200}\n",
    "        * Sales of snake = Snake Price* Sales Volume of Snake(VOL_SN)\n",
    "            * 1 kind of snake= {Popcorn: 70}\n",
    "        * Sales of beverage = Beverage Price* Sales Volume of Beverage(VOL_BEV)\n",
    "            * 1 brand of beverage= {Coke: 50}\n",
    "<br>    \n",
    "    * Expense = Variable cost + Fixed cost\n",
    "        1. Variable cost = Material(Mat) + Outsource cleaning Variable part (VC_OC)\n",
    "            1. Material = Snake(M_SN) + Beverage(M_BEV)\n",
    "                * Cost of snake = Snake Expense* Sales Volume of Snake \n",
    "                    * M_SN = EXP_SN* SV_SN\n",
    "                * Cost of beverage = Beverage Expence* Sales Volume of Beverage\n",
    "                    * M_BEV = EXP_BVE* SV_BVE\n",
    "            * Outsource cleaning = {box A: 70/ ticket; box B: 50/ ticket; box C: 30/ ticket}\n",
    "<br><br>            \n",
    "        * Fixed cost = Labor cost(LC) + Overhead(OH)\n",
    "            1. Labor cost = Parttime wages(LC_PT) + Management salaries(LC_MGT)\n",
    "                * Parttime wages = Wages x hours = PT_wage x PT_hrs\n",
    "                * Management salaries = Salary x positions = MGT_wage x MGT_num\n",
    "\n",
    "            * Overhead = Movie Licence(OH_LIC) + Repairment(OH_REP) + Outsource cleaning Fixed part (OH_OC) + Rent(OH_RENT)\n",
    "\n",
    "                1. Movie Licence: key in = default= 500000\n",
    "                * Repairment: key in, default= 3000\n",
    "                * Outsource cleaning: key in, default= 3000\n",
    "                * Rent: key in, default= 500000\n",
    "<br><br>            \n",
    "    * Outsource Cleaning Expense\n",
    "        * 3000 basic payment for each month\n",
    "        * each box used calculate different extra expense"
   ]
  },
  {
   "cell_type": "markdown",
   "metadata": {},
   "source": [
    "* Profit = (Revenue(REV)- Expense(EXP))*(1-Tax rate) \n",
    "    * $\\Rightarrow Profit/(1-r) = REV - EXP$\n",
    "    * $\\Rightarrow Profit/(1-r) = REV - EXP = \\Sigma (Price_i(P_i)- VariableCost_i(VC_i))* Sales Volumn_i(SV_i) - Fixed Cost(FC)$\n",
    "    * $\\because GM = P_i- VC_i$\n",
    "    * $\\Rightarrow Profit/(1-r) = REV - EXP = \\sum ^{3}_{i=1} (GM_i* SV_i) - FC$ \n",
    "    * $\\because Gross Margin Rate(GMR) = \\dfrac {P_i- VC_i}{P_i}$\n",
    "    * $\\Rightarrow Profit/(1-r) = REV - EXP = \\sum ^{3}_{i=1} (GMR_i* SalesRevenue_i(SR_i)) - FC$\n",
    "<br><br>\n",
    "* $Budget$: planned sales volumes and revenues, resource quantities and costs.\n",
    "    * Sales Volume(SV); Sales Volume per Day(SVD)\n",
    "        * Budget Sales Volume(Budget_SV); Budget Sales Volume per day(Budget_SVD)\n",
    "        * Real Sales Volume(SV); SVD\n",
    "    <br><br>\n",
    "    * Profit/(1-r)+ EXP = $\\sum ^{3}_{i=1} GMR_i* SV_i$\n",
    "    * $\\dfrac {Profit/(1-r) + EXP}{Operating Days}$ = Budget Revenue per day(Budget_REVD) = $\\sum ^{3}_{i=1} GRM_i* BudgetSVD_i$\n",
    "    * $\\Rightarrow$ $\\dfrac {BudgetREVD_i}{GRM_i}= BudgetSVD_i$\n",
    "    \n",
    "#### As real sales volume fluctuate, the budget sales volume per day will be adjusted followed the $\\Delta Sales Volume$. We can expect the real sales in different $price$ and $quality$ of product based on the historical data. Cooperating with timely update database, managers can monitor the cash flow and underatand the operating condition. Therefore, managers can update marketing, pricing and purchasing strategies."
   ]
  },
  {
   "cell_type": "markdown",
   "metadata": {
    "collapsed": false
   },
   "source": [
    "## I/O"
   ]
  },
  {
   "cell_type": "code",
   "execution_count": 114,
   "metadata": {
    "collapsed": false
   },
   "outputs": [],
   "source": [
    "# account = open('VIESHOW_Account.txt', 'w')"
   ]
  },
  {
   "cell_type": "code",
   "execution_count": null,
   "metadata": {
    "collapsed": true
   },
   "outputs": [],
   "source": []
  },
  {
   "cell_type": "markdown",
   "metadata": {},
   "source": [
    "## Record time"
   ]
  },
  {
   "cell_type": "code",
   "execution_count": 1,
   "metadata": {
    "collapsed": true
   },
   "outputs": [],
   "source": [
    "#import package\n",
    "from datetime import datetime\n",
    "import calendar"
   ]
  },
  {
   "cell_type": "code",
   "execution_count": 2,
   "metadata": {
    "collapsed": false
   },
   "outputs": [],
   "source": [
    "#Date\n",
    "now_date = datetime.now()\n",
    "#Days in this month\n",
    "DITM = calendar.monthrange(now_date.year,now_date.month)[1]"
   ]
  },
  {
   "cell_type": "code",
   "execution_count": 43,
   "metadata": {
    "collapsed": true
   },
   "outputs": [],
   "source": [
    "#Key in record\n",
    "file_record = 'The {1} is {0:%d}, the {2} is {0:%B}, the {3} is {0:%I:%M%p}.'.format(now_date, \"day\", \"month\", \"time\")\n",
    "time_record = '{0:%B %d %I:%M%p, }'.format(now_date, \"day\", \"month\", \"time\")"
   ]
  },
  {
   "cell_type": "markdown",
   "metadata": {},
   "source": [
    "## Setting before operation"
   ]
  },
  {
   "cell_type": "code",
   "execution_count": 4,
   "metadata": {
    "collapsed": true
   },
   "outputs": [],
   "source": [
    "# print(\"請輸入貴公司詳細資訊。\")\n",
    "\n",
    "# #Target Net income in this month\n",
    "# Profit = int(input('本月目標獲利?'))\n",
    "\n",
    "# ##Revenue\n",
    "# #Ticket price in each box\n",
    "# print(\"請輸入營業項目相關資訊。\")\n",
    "# box_A = int(input('請問A廳票價?'))\n",
    "# box_B = int(input('請問B廳票價?'))\n",
    "# box_C = int(input('請問C廳票價?'))\n",
    "# P_T = [box_A,box_B, box_C]\n",
    "\n",
    "# ##Cost\n",
    "# #Movies LIC\n",
    "# OH_LIC = int(input('本月總計攤銷影片授權金?'))\n",
    "\n",
    "# #Labor cost:{LC_PT; LC_MGT}\n",
    "# PT_wage = int(input('法定最低薪資是?'))\n",
    "# PT_hrs = int(input('本月兼職人員總工作時數?'))\n",
    "# LC_PT = PT_wage* PT_hrs\n",
    "\n",
    "# MGT_wage = int(input('管理階層本月薪資?'))\n",
    "# MGT_num = int(input('管理層級人數?'))\n",
    "# LC_MGT = MGT_wage* MGT_num\n",
    "\n",
    "# #Overhead\n",
    "# OH_Rent = int(input('本月電影院租金?'))\n",
    "# OH_Repair = int(input('本月維修費用?'))"
   ]
  },
  {
   "cell_type": "markdown",
   "metadata": {},
   "source": [
    "## Default , Labor cost, Overhead"
   ]
  },
  {
   "cell_type": "code",
   "execution_count": 5,
   "metadata": {
    "collapsed": true
   },
   "outputs": [],
   "source": [
    "import numpy as np"
   ]
  },
  {
   "cell_type": "code",
   "execution_count": 15,
   "metadata": {
    "collapsed": false
   },
   "outputs": [],
   "source": [
    "REV = 0\n",
    "EXP = 0\n",
    "SV = SV_T = SV_SN = SV_BER = 0\n",
    "r = 0.4\n",
    "#Movies on air\n",
    "Movie = [\"與神同行：最終審判\", \"不可能的任務 : 全面瓦解\", \"尖叫旅社 3：怪獸假期\", \"超人特攻隊 2\"]\n",
    "#Available boxes, snake\n",
    "Box = [\"A廳\", \"B廳\", \"C廳\"]\n",
    "Snake = [\"Popcorn\"]\n",
    "Beverage = [\"Coke\"]\n",
    "#Profit = Net income\n",
    "Profit = 500000\n",
    "#Pricing\n",
    "box_A, box_B, box_C = 320, 270, 250\n",
    "P_T = np.array([box_A,box_B, box_C])\n",
    "Popcorn = 70\n",
    "P_SN = np.array([Popcorn])\n",
    "Coke = 50\n",
    "P_BEV = np.array([Coke])\n",
    "##Cost\n",
    "#Movies LIC\n",
    "OH_LIC = 500000\n",
    "#Labor cost:{LC_PT; LC_MGT}\n",
    "PT_wage = 133 \n",
    "PT_hrs = 720\n",
    "LC_PT = PT_wage*PT_hrs\n",
    "\n",
    "MGT_wage = 50000\n",
    "MGT_num = 5\n",
    "LC_MGT = MGT_wage*MGT_num\n",
    "LC = LC_PT+ LC_MGT\n",
    "#Overhead\n",
    "OH_Rent = 500000\n",
    "OH_Repair = 3000\n",
    "OH_OC = 3000\n",
    "OH = OH_LIC+ OH_Rent+ OH_Repair+ OH_OC"
   ]
  },
  {
   "cell_type": "markdown",
   "metadata": {},
   "source": [
    "### Expense"
   ]
  },
  {
   "cell_type": "code",
   "execution_count": 20,
   "metadata": {
    "collapsed": true
   },
   "outputs": [],
   "source": [
    "# Fixed cost = Labor cost(LC) + Overhead(OH)\n",
    "FC = LC+ OH\n",
    "# Variable cost= Material + Outsource cleaning(Variable part)\n",
    "# Outsource cleaning = {box A: 70/ ticket; box B: 50/ ticket; box C: 30/ ticket} \n",
    "OC_A, OC_B, OC_C = 70, 50, 30\n",
    "VC_OC = np.array([OC_A, OC_B, OC_C])\n",
    "M_Popcorn = 20\n",
    "VC_SN = np.array([M_Popcorn])\n",
    "M_Coke = 15\n",
    "VC_BEV = np.array([M_Coke])"
   ]
  },
  {
   "cell_type": "markdown",
   "metadata": {},
   "source": [
    "### Gross margin"
   ]
  },
  {
   "cell_type": "code",
   "execution_count": 21,
   "metadata": {
    "collapsed": false
   },
   "outputs": [],
   "source": [
    "GM_box, GM_SN, GM_BEV = P_T-VC_OC, P_SN-VC_SN, P_BEV-VC_BEV\n",
    "GMR_box, GMR_SN, GMR_BEV= GM_box/P_T, GM_SN/P_SN, GM_BEV/P_BEV"
   ]
  },
  {
   "cell_type": "code",
   "execution_count": 35,
   "metadata": {
    "collapsed": false
   },
   "outputs": [
    {
     "data": {
      "text/plain": [
       "(array([ 0.78125   ,  0.81481481,  0.88      ]),\n",
       " array([ 0.71428571]),\n",
       " array([ 0.7]))"
      ]
     },
     "execution_count": 35,
     "metadata": {},
     "output_type": "execute_result"
    }
   ],
   "source": [
    "GMR_box, GMR_SN, GMR_BEV"
   ]
  },
  {
   "cell_type": "markdown",
   "metadata": {
    "collapsed": true
   },
   "source": [
    "## Budget"
   ]
  },
  {
   "cell_type": "code",
   "execution_count": 34,
   "metadata": {
    "collapsed": false
   },
   "outputs": [
    {
     "data": {
      "text/plain": [
       "2185093.3333333335"
      ]
     },
     "execution_count": 34,
     "metadata": {},
     "output_type": "execute_result"
    }
   ],
   "source": [
    "Profit/(1-r)+EXP +FC"
   ]
  },
  {
   "cell_type": "code",
   "execution_count": 30,
   "metadata": {
    "collapsed": false
   },
   "outputs": [
    {
     "name": "stdout",
     "output_type": "stream",
     "text": [
      "本月每日營業額目標為 26881.720430元。\n"
     ]
    }
   ],
   "source": [
    "#Budget_Revenue_Per_Day\n",
    "Budget_REVD = (Profit/(1-r)+EXP)/DITM\n",
    "print(\"本月每日營業額目標為 %f元。\" %Budget_REVD)"
   ]
  },
  {
   "cell_type": "code",
   "execution_count": null,
   "metadata": {
    "collapsed": true
   },
   "outputs": [],
   "source": []
  },
  {
   "cell_type": "markdown",
   "metadata": {},
   "source": [
    "## Update after each operating activity is recorded."
   ]
  },
  {
   "cell_type": "markdown",
   "metadata": {},
   "source": [
    "### Setting Movie"
   ]
  },
  {
   "cell_type": "code",
   "execution_count": 22,
   "metadata": {
    "collapsed": false
   },
   "outputs": [
    {
     "name": "stdout",
     "output_type": "stream",
     "text": [
      "目前上映的電影有:\n",
      "1.與神同行：最終審判; 2.不可能的任務 : 全面瓦解; 3.尖叫旅社 3：怪獸假期\n",
      "請輸入電影代碼。\n",
      "1\n",
      "輸入與神同行：最終審判\n"
     ]
    }
   ],
   "source": [
    "#Choose the movie | Movie_num\n",
    "print('目前上映的電影有:')\n",
    "print('1.與神同行：最終審判; 2.不可能的任務 : 全面瓦解; 3.尖叫旅社 3：怪獸假期')\n",
    "print('請輸入電影代碼。')\n",
    "Movie_reply = input()\n",
    "if any(i in Movie_reply for i in(\"1\", \"一\", \"ne\")):\n",
    "    Movie_num = 0\n",
    "    a = Movie[Movie_num]\n",
    "    print('輸入%s'%a)\n",
    "elif any(i in Movie_reply for i in(\"2\", \"二\", \"wo\" ,\"WO\")):\n",
    "    Movie_num = 1\n",
    "    a = Movie[Movie_num]\n",
    "    print('輸入%s'%a)\n",
    "elif any(i in Movie_reply for i in(\"3\", \"三\", \"hree\", \"HREE\")):\n",
    "    Movie_num = 2\n",
    "    a = Movie[Movie_num]\n",
    "    print('輸入%s'%a)\n",
    "else:\n",
    "    print('404')"
   ]
  },
  {
   "cell_type": "markdown",
   "metadata": {},
   "source": [
    "### Setting box"
   ]
  },
  {
   "cell_type": "code",
   "execution_count": 23,
   "metadata": {
    "collapsed": false
   },
   "outputs": [
    {
     "name": "stdout",
     "output_type": "stream",
     "text": [
      "今日開放的影廳有:\n",
      "1.A廳; 2.B廳; 3.C廳\n",
      "請輸入影廳代碼。\n",
      "2\n",
      "輸入B廳\n"
     ]
    }
   ],
   "source": [
    "#Choose the box | Box_num\n",
    "print('今日開放的影廳有:')\n",
    "print('1.A廳; 2.B廳; 3.C廳')\n",
    "print('請輸入影廳代碼。')\n",
    "\n",
    "box_reply = input()\n",
    "\n",
    "if any(j in box_reply for j in(\"A\", \"1\", \"一\", \"ne\", \"NE\")):\n",
    "    Box_num = 0\n",
    "    b = Box[Box_num]\n",
    "    print('輸入%s'%b)\n",
    "elif any(j in box_reply for j in(\"B\", \"2\", \"二\", \"wo\", \"WO\")):\n",
    "    Box_num = 1\n",
    "    b = Box[Box_num]\n",
    "    print('輸入%s'%b)\n",
    "elif any(j in box_reply for j in(\"C\", \"3\", \"三\", \"hree\", \"HREE\")):\n",
    "    Box_num = 2\n",
    "    b = Box[Box_num]\n",
    "    print('輸入%s'%b)\n",
    "else:\n",
    "    print('404')"
   ]
  },
  {
   "cell_type": "markdown",
   "metadata": {},
   "source": [
    "### Target Sales Volume and Sales Revenue"
   ]
  },
  {
   "cell_type": "code",
   "execution_count": 29,
   "metadata": {
    "collapsed": false
   },
   "outputs": [],
   "source": [
    "#Target Sales Volume for each operating activity\n",
    "TSV_T = [0, 0, 0]\n",
    "TSV_SN = [0]\n",
    "TSV_BEV = [0]\n",
    "TSR_T = TSR_SN = TSR_BEV = np.array([0,0,0])\n",
    "#Target Sales Revenue for each operating activity\n",
    "\n",
    "TSR_T[Box_num] = TSV_T[Box_num]*P_T[Box_num]\n",
    "#As the Snake and Beverage have only one product, default setting as 0.\n",
    "TSR_SN[0] = TSV_SN[0]*P_SN[0]\n",
    "TSR_BEV[0] = TSV_BEV[0]*P_BEV[0]"
   ]
  },
  {
   "cell_type": "markdown",
   "metadata": {},
   "source": [
    "### Real Sales Volume"
   ]
  },
  {
   "cell_type": "code",
   "execution_count": 52,
   "metadata": {
    "collapsed": false,
    "scrolled": true
   },
   "outputs": [
    {
     "name": "stdout",
     "output_type": "stream",
     "text": [
      "請問在August 16 12:59PM, B廳播放的與神同行：最終審判賣出幾張票?500\n",
      "輸入賣出B廳播放的與神同行：最終審判500張票。\n",
      "請問在August 16 12:59PM, B廳播放的與神同行：最終審判賣出幾份Popcorn?200\n",
      "輸入賣出B廳播放的與神同行：最終審判200份Popcorn。\n",
      "請問在August 16 12:59PM, B廳播放的與神同行：最終審判賣出幾杯Coke?300\n",
      "輸入賣出B廳播放的與神同行：最終審判300杯Coke。\n"
     ]
    }
   ],
   "source": [
    "#Ticket sales volume\n",
    "SV_T = int(input(\"請問在\"+ time_record+ b+ \"播放的\"+ a+ \"賣出幾張票?\"))\n",
    "print(\"輸入賣出\"+ b+ \"播放的\"+ a+ \"%.f張票。\"%SV_T)\n",
    "\n",
    "SV_SN = int(input(\"請問在\"+ time_record+ b+ \"播放的\"+ a+ \"賣出幾份\"+ Snake[0]+\"?\"))\n",
    "print(\"輸入賣出\"+ b+ \"播放的\"+ a+ \"%.f份\"%SV_SN+ Snake[0]+ \"。\")\n",
    "\n",
    "SV_BER = int(input(\"請問在\"+ time_record+ b+ \"播放的\"+ a+\"賣出幾杯%s?\"%Beverage[0]))\n",
    "print(\"輸入賣出\"+ b+ \"播放的\"+ a+ \"%.f杯\"%SV_BER+ Beverage[0]+ \"。\")"
   ]
  },
  {
   "cell_type": "markdown",
   "metadata": {},
   "source": [
    "### Real Sales Revenus"
   ]
  },
  {
   "cell_type": "code",
   "execution_count": 53,
   "metadata": {
    "collapsed": true
   },
   "outputs": [],
   "source": [
    "SR_T = SV_T*GM_box\n",
    "SR_SN = SV_SN*GM_SN\n",
    "SR_BER = SV_BER*GM_BEV"
   ]
  },
  {
   "cell_type": "code",
   "execution_count": 54,
   "metadata": {
    "collapsed": false,
    "scrolled": true
   },
   "outputs": [
    {
     "data": {
      "text/plain": [
       "(array([125000, 110000, 110000]), array([10000]), array([10500]))"
      ]
     },
     "execution_count": 54,
     "metadata": {},
     "output_type": "execute_result"
    }
   ],
   "source": [
    "SR_T, SR_SN, SR_BER"
   ]
  }
 ],
 "metadata": {
  "anaconda-cloud": {},
  "kernelspec": {
   "display_name": "Python [Root]",
   "language": "python",
   "name": "Python [Root]"
  },
  "language_info": {
   "codemirror_mode": {
    "name": "ipython",
    "version": 3
   },
   "file_extension": ".py",
   "mimetype": "text/x-python",
   "name": "python",
   "nbconvert_exporter": "python",
   "pygments_lexer": "ipython3",
   "version": "3.5.2"
  }
 },
 "nbformat": 4,
 "nbformat_minor": 2
}
